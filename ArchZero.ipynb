{
 "cells": [
  {
   "cell_type": "code",
   "execution_count": 1,
   "metadata": {
    "ExecuteTime": {
     "end_time": "2018-01-04T20:00:34.673902Z",
     "start_time": "2018-01-04T20:00:34.653709Z"
    },
    "collapsed": true
   },
   "outputs": [],
   "source": [
    "def dirichlet_noise(size, eta=None):\n",
    "    if eta is None:\n",
    "        eta = 8/(size)\n",
    "#     this is only valid if the legal moves matches the size of the input array\n",
    "#     eta = 8/size\n",
    "#     ~10 legal moves seems like it would be about .9\n",
    "# should work out the equation at some point\n",
    "    noise_vec = []\n",
    "\n",
    "    for _ in range(size):\n",
    "        noise_vec.append(eta)\n",
    "\n",
    "    noise = np.random.dirichlet(noise_vec, 1)\n",
    "    return noise[0]"
   ]
  },
  {
   "cell_type": "code",
   "execution_count": 2,
   "metadata": {
    "ExecuteTime": {
     "end_time": "2018-01-04T20:00:35.182297Z",
     "start_time": "2018-01-04T20:00:34.676855Z"
    },
    "collapsed": true
   },
   "outputs": [],
   "source": [
    "import numpy as np\n",
    "from IPython.core.debugger import set_trace\n",
    "# import random\n",
    "# import bisect\n",
    "# import collections\n",
    "\n",
    "# def cdf(weights):\n",
    "#     total = sum(weights)\n",
    "#     result = []\n",
    "#     cumsum = 0\n",
    "#     for w in weights:\n",
    "#         cumsum += w\n",
    "#         result.append(cumsum / total)\n",
    "#     return result\n",
    "\n",
    "# def choice(population, weights):\n",
    "#     assert len(population) == len(weights)\n",
    "#     cdf_vals = cdf(weights)\n",
    "#     x = random.random\n",
    "#     idx = bisect.bisect(cdf_vals, x)\n",
    "#     return population[idx]\n",
    "\n",
    "# idea: instead of explicitly make tree, could use sqlite or something to keep track of stuff\n",
    "# it might significantly slow down things since it would read from disc.\n",
    "def create_node(parent, action, proba):\n",
    "    print(\"in create node\")\n",
    "#     if proba is None and state is None:\n",
    "#         node[\"true_root\"] = True\n",
    "#         node[\"depth\"] = 0\n",
    "    node = {}\n",
    "    node[\"children\"] = []\n",
    "    node[\"visits\"] = 0\n",
    "    node[\"total_value\"] = 0\n",
    "    node[\"mean_value\"] = 0\n",
    "    node[\"probability\"] = proba\n",
    "    node[\"parent\"] = parent\n",
    "    node[\"action\"] = action\n",
    "    node[\"depth\"] = parent[\"depth\"] + 1\n",
    "#     if state is not None:\n",
    "#         node[\"parent\"] = state\n",
    "#         node[\"action\"] = action\n",
    "#     else:\n",
    "#         node[\"depth\"] = 0\n",
    "#         node[\"is_root\"] = True\n",
    "    return node\n",
    "\n",
    "def select(node, is_stochastic=False, most_visits=False, T=1):\n",
    "    print(\"in select\")\n",
    "    scores = []\n",
    "    probabilities = []\n",
    "    c = np.log(3)\n",
    "    all_visits = np.sum([child[\"visits\"] for child in node[\"children\"]])\n",
    "    for i, child in enumerate(node[\"children\"]):\n",
    "#         visits = all_visits - child[\"visits\"]\n",
    "#         if node[\"depth\"] > 0 and (node[\"depth\"] % (3)) == 0:\n",
    "#             set_trace()\n",
    "#         U = c * child[\"probability\"] * np.log(visits+1)/(1 + child[\"visits\"])\n",
    "        U = child[\"probability\"]/(1 + child[\"visits\"])\n",
    "        if U == -np.inf:\n",
    "            set_trace()\n",
    "        print(\"U: {}, child visits: {}, child proba: {}, child mean value: {}\".format(U, child[\"visits\"],\n",
    "                                                                                     child[\"probability\"],\n",
    "                                                                                     child[\"mean_value\"]))\n",
    "        score = child[\"mean_value\"] + U\n",
    "        scores.append(score)\n",
    "        if all_visits == 0:\n",
    "            proba = 0\n",
    "        else:\n",
    "            proba = (child[\"visits\"]**(1/T))/all_visits\n",
    "        probabilities.append(proba)\n",
    "        \n",
    "    probabilities = np.array(probabilities)\n",
    "    if np.sum(probabilities) == 0:\n",
    "        probabilities = np.zeros(len(probabilities))\n",
    "        probabilities += 1/len(probabilities)\n",
    "    \n",
    "    if is_stochastic:\n",
    "        node = np.random.choice(node[\"children\"], p = probabilities)\n",
    "    elif most_visits:\n",
    "        node = node[\"children\"][np.argmax(probabilities)]\n",
    "    else:\n",
    "#         print(\"end of select scores\", scores)\n",
    "#         print(\"end of select probas\", probabilities)\n",
    "        node = node[\"children\"][np.argmax(scores)]\n",
    "    \n",
    "    set_trace()\n",
    "    test = \"hi\"\n",
    "    return node, probabilities\n",
    "    \n",
    "def _transition(state, node):\n",
    "    print(\"in transition\")\n",
    "#     print(\"depth: {}\".format(node[\"depth\"]))\n",
    "    state.board[node[\"depth\"]] = node[\"action\"]\n",
    "    if state.is_root:\n",
    "        state.is_root = False\n",
    "            \n",
    "def expand(state, node):\n",
    "    print(\"in expand\")\n",
    "    ohe_board = state.lb.transform(state.board)\n",
    "#     skips = []\n",
    "#     non_skips = []\n",
    "#     for i, ohe in enumerate(ohe_board):\n",
    "#         if i % (state.max_width+1) == 0:\n",
    "#             non_skips.append(ohe)\n",
    "#         else:\n",
    "#             skips.append(ohe)\n",
    "#     non_skips = np.array([non_skips])\n",
    "#     skips = np.array([skips])\n",
    "    ohe_board = np.expand_dims(ohe_board, axis=0)\n",
    "#     so I want to change the inputs to be OHE's of the skip connections sent to\n",
    "# convs, and OHE's of \n",
    "#     (probabilities, value) = state.net.predict([non_skips, skips])\n",
    "    (probabilities, value) = state.net.predict(ohe_board)\n",
    "    probabilities = probabilities[0]\n",
    "    value = value[0][0]\n",
    "#     print(\"Probabilities and value post net: {}, {}\".format(probabilities, value))\n",
    "#     if state.is_root:\n",
    "    probabilities += dirichlet_noise(size=len(probabilities))\n",
    "    probabilities /= 2\n",
    "    for i, proba in enumerate(probabilities):\n",
    "        action = state.layer_types_numeric[i]\n",
    "        n = create_node(node, action, proba)\n",
    "        node[\"children\"].append(n)\n",
    "        \n",
    "#     print(probabilities)\n",
    "        \n",
    "    return value\n",
    "        \n",
    "def backup(node, value, orig_depth):\n",
    "    print(\"in backup\")\n",
    "    while \"parent\" in node:\n",
    "#         print(\"value\")\n",
    "#         if value is not None:\n",
    "#             print(\"passed value test\")\n",
    "        if node[\"depth\"] > orig_depth:\n",
    "            node[\"visits\"] += 1\n",
    "            node[\"total_value\"] += value\n",
    "    #         not sure about dividing, by visits, seems like it should be by total number of moves or something\n",
    "            node[\"mean_value\"] = node[\"total_value\"]/node[\"visits\"]\n",
    "        node = node[\"parent\"]\n",
    "        \n",
    "#     print(node[\"depth\"])\n",
    "        \n",
    "    return node"
   ]
  },
  {
   "cell_type": "code",
   "execution_count": 3,
   "metadata": {
    "collapsed": true
   },
   "outputs": [],
   "source": [
    "def convert_to_string(arr):\n",
    "    string_ver = \"\"\n",
    "    for num in arr:\n",
    "        string_ver += str(num) + \"_\"\n",
    "    string_ver = string_ver[:-1]\n",
    "    return string_ver"
   ]
  },
  {
   "cell_type": "code",
   "execution_count": 4,
   "metadata": {
    "ExecuteTime": {
     "end_time": "2018-01-04T20:01:04.612836Z",
     "start_time": "2018-01-04T20:00:35.185399Z"
    }
   },
   "outputs": [
    {
     "name": "stderr",
     "output_type": "stream",
     "text": [
      "Using TensorFlow backend.\n"
     ]
    }
   ],
   "source": [
    "from copy import deepcopy\n",
    "from sklearn.preprocessing import LabelBinarizer\n",
    "from model import create_net\n",
    "from tqdm import tqdm\n",
    "from evaluate_arch import eval_arch\n",
    "\n",
    "# def default_layer_types():\n",
    "#     layer_types = [\"conv2d1x1\", \"conv2d3x3\", \"conv2dsep1x1\", \"conv2dsep3x3\"]\n",
    "#     return layer_types\n",
    "\n",
    "class arch_state():\n",
    "    def __init__(self, kwargs={}):\n",
    "        self.layer_types = kwargs.get(\"layer_types\", \n",
    "                   [\"\", \"conv2d1x1\", \"conv2d3x3\",\n",
    "#                     \"conv2dsep1x1\", \"conv2dsep3x3\",\n",
    "                   \"conv2d1x1stride\", \"conv2d3x3stride\"\n",
    "                   ])\n",
    "        self.layer_types_numeric = kwargs.get(\"layer_types_numeric\", \n",
    "                                              [i for i in range(len(self.layer_types))])\n",
    "        self.max_width = kwargs.get(\"max_width\", 2)\n",
    "        self.max_depth = kwargs.get(\"max_depth\", 10)\n",
    "        size = 0\n",
    "        for i in range(self.max_width):\n",
    "            size += self.max_depth-(i+1)\n",
    "        self.size = kwargs.get(\"size\", size)\n",
    "        self.board = kwargs.get(\"board\", np.zeros(self.size, dtype=int))\n",
    "        self.is_root = kwargs.get(\"is_root\", True)\n",
    "        self.net = kwargs.get(\"net\", create_net(time_steps=self.size, vector_size=len(self.layer_types)))\n",
    "        self.lb = kwargs.get(\"lb\", LabelBinarizer())\n",
    "        self.lb.fit(self.layer_types)\n",
    "        \n",
    "#     def compare_to_best(self, node)\n",
    "#         result, model = eval_arch(self, node, vs_best=True)\n",
    "        \n",
    "    def evaluate(self, node):\n",
    "        return eval_arch(self, node)\n",
    "            \n",
    "    def clone(self):\n",
    "        kwargs = {}\n",
    "        kwargs[\"layer_types\"] = self.layer_types\n",
    "        kwargs[\"layer_types_numeric\"] = self.layer_types_numeric\n",
    "        kwargs[\"max_width\"] = self.max_width\n",
    "        kwargs[\"max_depth\"] = self.max_depth\n",
    "        kwargs[\"size\"] = self.size\n",
    "        kwargs[\"board\"] = self.board\n",
    "        kwargs[\"is_root\"] = self.is_root\n",
    "        kwargs[\"net\"] = self.net\n",
    "        kwargs[\"lb\"] = self.lb\n",
    "        return arch_state(kwargs)\n",
    "\n",
    "# def get_max_depth(board):\n",
    "\n",
    "# a state must specify current position\n",
    "# for now why dont we assume that it starts from the root\n",
    "\n",
    "# for now going to assume that the state is the default state\n",
    "# in the future, I could add so that you can start from an arbitrary state and look up the\n",
    "# tree from there\n",
    "\n",
    "def MCTS(root_state=None, root_node=None, is_stochastic=False, num_simulations=5, records=[]):\n",
    "#     if state[\"curr_position\"] == 0:\n",
    "#         state = create_node()\n",
    "\n",
    "    if root_state is None:\n",
    "        root_state = arch_state()\n",
    "        \n",
    "#     eventually want to allow node to be able to be passed in\n",
    "# maybe want to look into storing children as part of the state\n",
    "    if root_node is None:\n",
    "        node = {\"children\": [], \"depth\": -1}\n",
    "        root_node = {\"children\": [], \"depth\": -1}\n",
    "    else:\n",
    "        node = deepcopy(root_node)\n",
    "    \n",
    "#     so, what do I want.\n",
    "# I want to be able to input a raw board position / graph, and have that act as the root\n",
    "    \n",
    "    state = root_state.clone()\n",
    "    for i in tqdm(range(num_simulations)):\n",
    "        print(state.board)\n",
    "        print(\"in simulation {}\".format(i))\n",
    "       \n",
    "        while node[\"children\"] != []:\n",
    "            node, probas = select(node, is_stochastic)\n",
    "            _transition(state, node)\n",
    "            \n",
    "#             placeholder fr now\n",
    "        loss_threshold = 0\n",
    "            \n",
    "        if depth < state.max_depth-1:\n",
    "            value = expand(state, node)\n",
    "            results = db.select(\"\"\"SELECT loss FROM data WHERE depth={}\"\"\".format(node[\"depth\"]))\n",
    "            loss_threshold = np.mean(results)*1.2\n",
    "            result = value\n",
    "            if value > loss_threshold:\n",
    "                result = -1\n",
    "        else:\n",
    "            result, rowid = state.evaluate(node)\n",
    "        \n",
    "        board_string = convert_to_string(state.board)\n",
    "        probas_string = convert_to_string(probas)\n",
    "        db.update(\"\"\"UPDATE data SET board_string = {}, probas_string = {}, result = {}\"\"\"\n",
    "                  .format(board_string, probas_string, result))\n",
    "        \n",
    "        node = backup(node, value, root_node[\"depth\"])\n",
    "\n",
    "        state = arch_state()\n",
    "#         else:\n",
    "#             node = backup(node, value, root_node[\"depth\"])\n",
    "            \n",
    "#     result = state.evaluate(node)\n",
    "#     record.append((state.board, probas, result))\n",
    "#     records.append(record)\n",
    "\n",
    "        \n",
    "#     tree starting from chosen node is saved, the rest is discarded\n",
    "\n",
    "#     state = root_state.clone()\n",
    "\n",
    "#     node, probas = select(node, is_stochastic, most_visits=True)\n",
    "    \n",
    "#     print(\"Node Action:\", node[\"action\"])\n",
    "#     print(\"Node Depth:\", node[\"depth\"])\n",
    "    \n",
    "#     _transition(root_state, node)\n",
    "    \n",
    "    \n",
    "#     might want to delete node[\"parent\"] here, since in theory it wont matter\n",
    "\n",
    "#     try:\n",
    "#         del node[\"parent\"][\"parent\"]\n",
    "#     except:\n",
    "#         pass\n",
    "            \n",
    "#     return node, probas, root_state, records\n",
    "    return node, records"
   ]
  },
  {
   "cell_type": "code",
   "execution_count": 5,
   "metadata": {
    "collapsed": true
   },
   "outputs": [],
   "source": [
    "import database as db\n",
    "db.create_tables()"
   ]
  },
  {
   "cell_type": "code",
   "execution_count": 6,
   "metadata": {},
   "outputs": [
    {
     "name": "stderr",
     "output_type": "stream",
     "text": [
      "  0%|          | 0/15 [00:00<?, ?it/s]/home/jprothero/.conda/envs/main/lib/python3.6/site-packages/numpy/lib/arraysetops.py:395: FutureWarning: elementwise comparison failed; returning scalar instead, but in the future will perform elementwise comparison\n",
      "  mask |= (ar1 == a)\n"
     ]
    },
    {
     "name": "stdout",
     "output_type": "stream",
     "text": [
      "[0 0 0 0 0 0 0 0 0 0 0 0 0 0 0 0 0]\n",
      "in simulation 0\n",
      "in expand\n"
     ]
    },
    {
     "name": "stderr",
     "output_type": "stream",
     "text": [
      "\r",
      "  7%|▋         | 1/15 [00:12<02:57, 12.66s/it]"
     ]
    },
    {
     "name": "stdout",
     "output_type": "stream",
     "text": [
      "in create node\n",
      "in create node\n",
      "in create node\n",
      "in create node\n",
      "in create node\n",
      "[0 0 0 0 0 0 0 0 0 0 0 0 0 0 0 0 0]\n",
      "in simulation 1\n",
      "in select\n",
      "U: 0.1409074068069458, child visits: 0, child proba: 0.1409074068069458, child mean value: 0\n",
      "U: 0.2052573263645172, child visits: 0, child proba: 0.2052573263645172, child mean value: 0\n",
      "U: 0.1322239637374878, child visits: 0, child proba: 0.1322239637374878, child mean value: 0\n",
      "U: 0.17482885718345642, child visits: 0, child proba: 0.17482885718345642, child mean value: 0\n",
      "U: 0.3467824459075928, child visits: 0, child proba: 0.3467824459075928, child mean value: 0\n",
      "> \u001b[0;32m<ipython-input-2-969d3bac342e>\u001b[0m(87)\u001b[0;36mselect\u001b[0;34m()\u001b[0m\n",
      "\u001b[0;32m     85 \u001b[0;31m\u001b[0;34m\u001b[0m\u001b[0m\n",
      "\u001b[0m\u001b[0;32m     86 \u001b[0;31m    \u001b[0mset_trace\u001b[0m\u001b[0;34m(\u001b[0m\u001b[0;34m)\u001b[0m\u001b[0;34m\u001b[0m\u001b[0m\n",
      "\u001b[0m\u001b[0;32m---> 87 \u001b[0;31m    \u001b[0mtest\u001b[0m \u001b[0;34m=\u001b[0m \u001b[0;34m\"hi\"\u001b[0m\u001b[0;34m\u001b[0m\u001b[0m\n",
      "\u001b[0m\u001b[0;32m     88 \u001b[0;31m    \u001b[0;32mreturn\u001b[0m \u001b[0mnode\u001b[0m\u001b[0;34m,\u001b[0m \u001b[0mprobabilities\u001b[0m\u001b[0;34m\u001b[0m\u001b[0m\n",
      "\u001b[0m\u001b[0;32m     89 \u001b[0;31m\u001b[0;34m\u001b[0m\u001b[0m\n",
      "\u001b[0m\n",
      "ipdb> node\n",
      "{'children': [], 'visits': 0, 'total_value': 0, 'mean_value': 0, 'probability': 0.17482886, 'parent': {'children': [{'children': [], 'visits': 0, 'total_value': 0, 'mean_value': 0, 'probability': 0.14090741, 'parent': {...}, 'action': 0, 'depth': 0}, {'children': [], 'visits': 0, 'total_value': 0, 'mean_value': 0, 'probability': 0.20525733, 'parent': {...}, 'action': 1, 'depth': 0}, {'children': [], 'visits': 0, 'total_value': 0, 'mean_value': 0, 'probability': 0.13222396, 'parent': {...}, 'action': 2, 'depth': 0}, {...}, {'children': [], 'visits': 0, 'total_value': 0, 'mean_value': 0, 'probability': 0.34678245, 'parent': {...}, 'action': 4, 'depth': 0}], 'depth': -1}, 'action': 3, 'depth': 0}\n",
      "ipdb> probabilities\n",
      "array([ 0.2,  0.2,  0.2,  0.2,  0.2])\n",
      "ipdb> exit\n"
     ]
    },
    {
     "ename": "BdbQuit",
     "evalue": "",
     "output_type": "error",
     "traceback": [
      "\u001b[0;31m---------------------------------------------------------------------------\u001b[0m",
      "\u001b[0;31mBdbQuit\u001b[0m                                   Traceback (most recent call last)",
      "\u001b[0;32m<ipython-input-6-3b4aa9f5ebca>\u001b[0m in \u001b[0;36m<module>\u001b[0;34m()\u001b[0m\n\u001b[0;32m----> 1\u001b[0;31m \u001b[0mnode\u001b[0m\u001b[0;34m,\u001b[0m \u001b[0mrecords\u001b[0m \u001b[0;34m=\u001b[0m \u001b[0mMCTS\u001b[0m\u001b[0;34m(\u001b[0m\u001b[0;32mNone\u001b[0m\u001b[0;34m,\u001b[0m \u001b[0mrecords\u001b[0m\u001b[0;34m=\u001b[0m\u001b[0;34m[\u001b[0m\u001b[0;34m]\u001b[0m\u001b[0;34m,\u001b[0m \u001b[0mnum_simulations\u001b[0m\u001b[0;34m=\u001b[0m\u001b[0;36m15\u001b[0m\u001b[0;34m,\u001b[0m \u001b[0mis_stochastic\u001b[0m\u001b[0;34m=\u001b[0m\u001b[0;32mTrue\u001b[0m\u001b[0;34m)\u001b[0m\u001b[0;34m\u001b[0m\u001b[0m\n\u001b[0m",
      "\u001b[0;32m<ipython-input-4-84ae493cfd89>\u001b[0m in \u001b[0;36mMCTS\u001b[0;34m(root_state, root_node, is_stochastic, num_simulations, records)\u001b[0m\n\u001b[1;32m     83\u001b[0m         \u001b[0;32mwhile\u001b[0m \u001b[0mnode\u001b[0m\u001b[0;34m[\u001b[0m\u001b[0;34m\"children\"\u001b[0m\u001b[0;34m]\u001b[0m \u001b[0;34m!=\u001b[0m \u001b[0;34m[\u001b[0m\u001b[0;34m]\u001b[0m\u001b[0;34m:\u001b[0m\u001b[0;34m\u001b[0m\u001b[0m\n\u001b[1;32m     84\u001b[0m             \u001b[0mprev\u001b[0m \u001b[0;34m=\u001b[0m \u001b[0mnode\u001b[0m\u001b[0;34m[\u001b[0m\u001b[0;34m\"depth\"\u001b[0m\u001b[0;34m]\u001b[0m\u001b[0;34m\u001b[0m\u001b[0m\n\u001b[0;32m---> 85\u001b[0;31m             \u001b[0mnode\u001b[0m\u001b[0;34m,\u001b[0m \u001b[0mprobas\u001b[0m \u001b[0;34m=\u001b[0m \u001b[0mselect\u001b[0m\u001b[0;34m(\u001b[0m\u001b[0mnode\u001b[0m\u001b[0;34m,\u001b[0m \u001b[0mis_stochastic\u001b[0m\u001b[0;34m)\u001b[0m\u001b[0;34m\u001b[0m\u001b[0m\n\u001b[0m\u001b[1;32m     86\u001b[0m             \u001b[0m_transition\u001b[0m\u001b[0;34m(\u001b[0m\u001b[0mstate\u001b[0m\u001b[0;34m,\u001b[0m \u001b[0mnode\u001b[0m\u001b[0;34m)\u001b[0m\u001b[0;34m\u001b[0m\u001b[0m\n\u001b[1;32m     87\u001b[0m     \u001b[0;31m#             so right now this node could be a leaf node.\u001b[0m\u001b[0;34m\u001b[0m\u001b[0;34m\u001b[0m\u001b[0m\n",
      "\u001b[0;32m<ipython-input-2-969d3bac342e>\u001b[0m in \u001b[0;36mselect\u001b[0;34m(node, is_stochastic, most_visits, T)\u001b[0m\n\u001b[1;32m     85\u001b[0m \u001b[0;34m\u001b[0m\u001b[0m\n\u001b[1;32m     86\u001b[0m     \u001b[0mset_trace\u001b[0m\u001b[0;34m(\u001b[0m\u001b[0;34m)\u001b[0m\u001b[0;34m\u001b[0m\u001b[0m\n\u001b[0;32m---> 87\u001b[0;31m     \u001b[0mtest\u001b[0m \u001b[0;34m=\u001b[0m \u001b[0;34m\"hi\"\u001b[0m\u001b[0;34m\u001b[0m\u001b[0m\n\u001b[0m\u001b[1;32m     88\u001b[0m     \u001b[0;32mreturn\u001b[0m \u001b[0mnode\u001b[0m\u001b[0;34m,\u001b[0m \u001b[0mprobabilities\u001b[0m\u001b[0;34m\u001b[0m\u001b[0m\n\u001b[1;32m     89\u001b[0m \u001b[0;34m\u001b[0m\u001b[0m\n",
      "\u001b[0;32m<ipython-input-2-969d3bac342e>\u001b[0m in \u001b[0;36mselect\u001b[0;34m(node, is_stochastic, most_visits, T)\u001b[0m\n\u001b[1;32m     85\u001b[0m \u001b[0;34m\u001b[0m\u001b[0m\n\u001b[1;32m     86\u001b[0m     \u001b[0mset_trace\u001b[0m\u001b[0;34m(\u001b[0m\u001b[0;34m)\u001b[0m\u001b[0;34m\u001b[0m\u001b[0m\n\u001b[0;32m---> 87\u001b[0;31m     \u001b[0mtest\u001b[0m \u001b[0;34m=\u001b[0m \u001b[0;34m\"hi\"\u001b[0m\u001b[0;34m\u001b[0m\u001b[0m\n\u001b[0m\u001b[1;32m     88\u001b[0m     \u001b[0;32mreturn\u001b[0m \u001b[0mnode\u001b[0m\u001b[0;34m,\u001b[0m \u001b[0mprobabilities\u001b[0m\u001b[0;34m\u001b[0m\u001b[0m\n\u001b[1;32m     89\u001b[0m \u001b[0;34m\u001b[0m\u001b[0m\n",
      "\u001b[0;32m/home/jprothero/.conda/envs/main/lib/python3.6/bdb.py\u001b[0m in \u001b[0;36mtrace_dispatch\u001b[0;34m(self, frame, event, arg)\u001b[0m\n\u001b[1;32m     46\u001b[0m             \u001b[0;32mreturn\u001b[0m \u001b[0;31m# None\u001b[0m\u001b[0;34m\u001b[0m\u001b[0m\n\u001b[1;32m     47\u001b[0m         \u001b[0;32mif\u001b[0m \u001b[0mevent\u001b[0m \u001b[0;34m==\u001b[0m \u001b[0;34m'line'\u001b[0m\u001b[0;34m:\u001b[0m\u001b[0;34m\u001b[0m\u001b[0m\n\u001b[0;32m---> 48\u001b[0;31m             \u001b[0;32mreturn\u001b[0m \u001b[0mself\u001b[0m\u001b[0;34m.\u001b[0m\u001b[0mdispatch_line\u001b[0m\u001b[0;34m(\u001b[0m\u001b[0mframe\u001b[0m\u001b[0;34m)\u001b[0m\u001b[0;34m\u001b[0m\u001b[0m\n\u001b[0m\u001b[1;32m     49\u001b[0m         \u001b[0;32mif\u001b[0m \u001b[0mevent\u001b[0m \u001b[0;34m==\u001b[0m \u001b[0;34m'call'\u001b[0m\u001b[0;34m:\u001b[0m\u001b[0;34m\u001b[0m\u001b[0m\n\u001b[1;32m     50\u001b[0m             \u001b[0;32mreturn\u001b[0m \u001b[0mself\u001b[0m\u001b[0;34m.\u001b[0m\u001b[0mdispatch_call\u001b[0m\u001b[0;34m(\u001b[0m\u001b[0mframe\u001b[0m\u001b[0;34m,\u001b[0m \u001b[0marg\u001b[0m\u001b[0;34m)\u001b[0m\u001b[0;34m\u001b[0m\u001b[0m\n",
      "\u001b[0;32m/home/jprothero/.conda/envs/main/lib/python3.6/bdb.py\u001b[0m in \u001b[0;36mdispatch_line\u001b[0;34m(self, frame)\u001b[0m\n\u001b[1;32m     65\u001b[0m         \u001b[0;32mif\u001b[0m \u001b[0mself\u001b[0m\u001b[0;34m.\u001b[0m\u001b[0mstop_here\u001b[0m\u001b[0;34m(\u001b[0m\u001b[0mframe\u001b[0m\u001b[0;34m)\u001b[0m \u001b[0;32mor\u001b[0m \u001b[0mself\u001b[0m\u001b[0;34m.\u001b[0m\u001b[0mbreak_here\u001b[0m\u001b[0;34m(\u001b[0m\u001b[0mframe\u001b[0m\u001b[0;34m)\u001b[0m\u001b[0;34m:\u001b[0m\u001b[0;34m\u001b[0m\u001b[0m\n\u001b[1;32m     66\u001b[0m             \u001b[0mself\u001b[0m\u001b[0;34m.\u001b[0m\u001b[0muser_line\u001b[0m\u001b[0;34m(\u001b[0m\u001b[0mframe\u001b[0m\u001b[0;34m)\u001b[0m\u001b[0;34m\u001b[0m\u001b[0m\n\u001b[0;32m---> 67\u001b[0;31m             \u001b[0;32mif\u001b[0m \u001b[0mself\u001b[0m\u001b[0;34m.\u001b[0m\u001b[0mquitting\u001b[0m\u001b[0;34m:\u001b[0m \u001b[0;32mraise\u001b[0m \u001b[0mBdbQuit\u001b[0m\u001b[0;34m\u001b[0m\u001b[0m\n\u001b[0m\u001b[1;32m     68\u001b[0m         \u001b[0;32mreturn\u001b[0m \u001b[0mself\u001b[0m\u001b[0;34m.\u001b[0m\u001b[0mtrace_dispatch\u001b[0m\u001b[0;34m\u001b[0m\u001b[0m\n\u001b[1;32m     69\u001b[0m \u001b[0;34m\u001b[0m\u001b[0m\n",
      "\u001b[0;31mBdbQuit\u001b[0m: "
     ]
    }
   ],
   "source": [
    "node, records = MCTS(None, records=[], num_simulations=15, is_stochastic=True)"
   ]
  },
  {
   "cell_type": "code",
   "execution_count": null,
   "metadata": {
    "ExecuteTime": {
     "start_time": "2018-01-04T20:00:31.924Z"
    },
    "collapsed": true,
    "scrolled": true
   },
   "outputs": [],
   "source": [
    "\n",
    "\n",
    "# def self_play(num_games=1):\n",
    "#     node = None\n",
    "#     records = []\n",
    "#     for i in range(num_games):\n",
    "#         node, records = MCTS(node, records=[], num_simulations=10, is_stochastic=True)\n",
    "        \n",
    "#     return records\n",
    "        \n",
    "# #     I think it's better to compare to the average of a certain depth"
   ]
  },
  {
   "cell_type": "code",
   "execution_count": 5,
   "metadata": {
    "ExecuteTime": {
     "start_time": "2018-01-04T20:00:31.966Z"
    },
    "scrolled": false
   },
   "outputs": [
    {
     "name": "stderr",
     "output_type": "stream",
     "text": [
      "  0%|          | 0/10 [00:00<?, ?it/s]/home/jprothero/.conda/envs/main/lib/python3.6/site-packages/numpy/lib/arraysetops.py:395: FutureWarning: elementwise comparison failed; returning scalar instead, but in the future will perform elementwise comparison\n",
      "  mask |= (ar1 == a)\n"
     ]
    },
    {
     "name": "stdout",
     "output_type": "stream",
     "text": [
      "[0 0 0 0 0 0 0 0 0 0 0 0 0 0 0 0 0]\n",
      "in simulation 0\n",
      "in expand\n"
     ]
    },
    {
     "name": "stderr",
     "output_type": "stream",
     "text": [
      " 10%|█         | 1/10 [00:12<01:52, 12.52s/it]/home/jprothero/.conda/envs/main/lib/python3.6/site-packages/ipykernel_launcher.py:55: RuntimeWarning: divide by zero encountered in log\n",
      " 40%|████      | 4/10 [00:12<00:18,  3.17s/it]"
     ]
    },
    {
     "name": "stdout",
     "output_type": "stream",
     "text": [
      "in create node\n",
      "in create node\n",
      "in create node\n",
      "in create node\n",
      "in create node\n",
      "[0 0 0 0 0 0 0 0 0 0 0 0 0 0 0 0 0]\n",
      "in simulation 1\n",
      "in select\n",
      "U: -inf, child visits: 0, child proba: 0.1105479970574379, child mean value: 0\n",
      "U: -inf, child visits: 0, child proba: 0.1256144791841507, child mean value: 0\n",
      "U: -inf, child visits: 0, child proba: 0.35521194338798523, child mean value: 0\n",
      "U: -inf, child visits: 0, child proba: 0.19855783879756927, child mean value: 0\n",
      "U: -inf, child visits: 0, child proba: 0.2100677341222763, child mean value: 0\n",
      "in transition\n",
      "in expand\n",
      "in create node\n",
      "in create node\n",
      "in create node\n",
      "in create node\n",
      "in create node\n",
      "[0 0 0 0 0 0 0 0 0 0 0 0 0 0 0 0 0]\n",
      "in simulation 2\n",
      "in select\n",
      "U: -inf, child visits: 0, child proba: 0.15526661276817322, child mean value: 0\n",
      "U: -inf, child visits: 0, child proba: 0.15735231339931488, child mean value: 0\n",
      "U: -inf, child visits: 0, child proba: 0.3785383403301239, child mean value: 0\n",
      "U: -inf, child visits: 0, child proba: 0.14535506069660187, child mean value: 0\n",
      "U: -inf, child visits: 0, child proba: 0.16348770260810852, child mean value: 0\n",
      "in transition\n",
      "in expand\n",
      "in create node\n",
      "in create node\n",
      "in create node\n",
      "in create node\n",
      "in create node\n",
      "[0 3 0 0 0 0 0 0 0 0 0 0 0 0 0 0 0]\n",
      "in simulation 3\n",
      "in select\n",
      "U: -inf, child visits: 0, child proba: 0.17299187183380127, child mean value: 0\n",
      "U: -inf, child visits: 0, child proba: 0.3683658838272095, child mean value: 0\n",
      "U: -inf, child visits: 0, child proba: 0.1375826895236969, child mean value: 0\n",
      "U: -inf, child visits: 0, child proba: 0.1167328804731369, child mean value: 0\n",
      "U: -inf, child visits: 0, child proba: 0.20432668924331665, child mean value: 0\n",
      "in transition\n",
      "in expand\n",
      "in create node\n",
      "in create node\n",
      "in create node\n",
      "in create node\n",
      "in create node\n",
      "[0 3 1 0 0 0 0 0 0 0 0 0 0 0 0 0 0]\n",
      "in simulation 4\n",
      "in select\n",
      "U: -inf, child visits: 0, child proba: 0.13420899212360382, child mean value: 0\n",
      "U: -inf, child visits: 0, child proba: 0.3348681926727295, child mean value: 0\n",
      "U: -inf, child visits: 0, child proba: 0.17555023729801178, child mean value: 0\n",
      "U: -inf, child visits: 0, child proba: 0.10719893127679825, child mean value: 0\n",
      "U: -inf, child visits: 0, child proba: 0.24817365407943726, child mean value: 0\n",
      "in transition\n",
      "in expand\n",
      "in create node\n",
      "in create node\n",
      "in create node\n",
      "in create node\n",
      "in create node\n",
      "[['', '', 'conv2d1x1stride', '', '', '', '', '', '', ''], ['', '', 'conv2d1x1', 'conv2d3x3', '', '', '', '', '', ''], ['', '', '', '', '', '', '', '', '', ''], ['', '', '', '', '', '', '', '', '', ''], ['', '', '', '', '', '', '', '', '', ''], ['', '', '', '', '', '', '', '', '', ''], ['', '', '', '', '', '', '', '', '', ''], ['', '', '', '', '', '', '', '', '', ''], ['', '', '', '', '', '', '', '', '', ''], ['', '', '', '', '', '', '', '', '', '']]\n",
      "Epoch 1/3\n",
      "78/78 [==============================] - 2s - loss: 2.0324 - acc: 0.2857 - val_loss: 2.0398 - val_acc: 0.2857\n",
      "Epoch 2/3\n",
      "78/78 [==============================] - 1s - loss: 1.7778 - acc: 0.3664 - val_loss: 1.8568 - val_acc: 0.3594\n",
      "Epoch 3/3\n",
      "78/78 [==============================] - 1s - loss: 1.6879 - acc: 0.3976 - val_loss: 1.8431 - val_acc: 0.3482\n",
      "prev_loss: None, new_loss: 1.8431449447359358\n",
      "in backup\n",
      "-1\n"
     ]
    },
    {
     "name": "stderr",
     "output_type": "stream",
     "text": [
      "\r",
      " 50%|█████     | 5/10 [00:41<00:41,  8.33s/it]"
     ]
    },
    {
     "name": "stdout",
     "output_type": "stream",
     "text": [
      "[0 0 0 0 0 0 0 0 0 0 0 0 0 0 0 0 0]\n",
      "in simulation 5\n",
      "in select\n",
      "U: -inf, child visits: 1, child proba: 0.1105479970574379, child mean value: 1.0\n",
      "U: 0.0, child visits: 0, child proba: 0.1256144791841507, child mean value: 0\n",
      "U: 0.0, child visits: 0, child proba: 0.35521194338798523, child mean value: 0\n",
      "U: 0.0, child visits: 0, child proba: 0.19855783879756927, child mean value: 0\n",
      "U: 0.0, child visits: 0, child proba: 0.2100677341222763, child mean value: 0\n",
      "in transition\n",
      "in select\n",
      "U: 0.0, child visits: 0, child proba: 0.15526661276817322, child mean value: 0\n",
      "U: 0.0, child visits: 0, child proba: 0.15735231339931488, child mean value: 0\n",
      "U: 0.0, child visits: 0, child proba: 0.3785383403301239, child mean value: 0\n",
      "U: -inf, child visits: 1, child proba: 0.14535506069660187, child mean value: 1.0\n",
      "U: 0.0, child visits: 0, child proba: 0.16348770260810852, child mean value: 0\n",
      "in transition\n",
      "in select\n",
      "U: 0.0, child visits: 0, child proba: 0.17299187183380127, child mean value: 0\n",
      "U: -inf, child visits: 1, child proba: 0.3683658838272095, child mean value: 1.0\n",
      "U: 0.0, child visits: 0, child proba: 0.1375826895236969, child mean value: 0\n",
      "U: 0.0, child visits: 0, child proba: 0.1167328804731369, child mean value: 0\n",
      "U: 0.0, child visits: 0, child proba: 0.20432668924331665, child mean value: 0\n",
      "in transition\n",
      "in select"
     ]
    },
    {
     "name": "stderr",
     "output_type": "stream",
     "text": [
      "\r",
      " 60%|██████    | 6/10 [00:50<00:33,  8.42s/it]"
     ]
    },
    {
     "name": "stdout",
     "output_type": "stream",
     "text": [
      "\n",
      "U: 0.0, child visits: 0, child proba: 0.13420899212360382, child mean value: 0\n",
      "U: 0.0, child visits: 0, child proba: 0.3348681926727295, child mean value: 0\n",
      "U: -inf, child visits: 1, child proba: 0.17555023729801178, child mean value: 1.0\n",
      "U: 0.0, child visits: 0, child proba: 0.10719893127679825, child mean value: 0\n",
      "U: 0.0, child visits: 0, child proba: 0.24817365407943726, child mean value: 0\n",
      "in transition\n",
      "in select\n",
      "U: -inf, child visits: 0, child proba: 0.17907460033893585, child mean value: 0\n",
      "U: -inf, child visits: 0, child proba: 0.2982083559036255, child mean value: 0\n",
      "U: -inf, child visits: 0, child proba: 0.16664355993270874, child mean value: 0\n",
      "U: -inf, child visits: 0, child proba: 0.13062383234500885, child mean value: 0\n",
      "U: -inf, child visits: 0, child proba: 0.22544965147972107, child mean value: 0\n",
      "in transition\n",
      "in expand\n",
      "in create node\n",
      "in create node\n",
      "in create node\n",
      "in create node\n",
      "in create node\n",
      "[0 3 1 2 0 0 0 0 0 0 0 0 0 0 0 0 0]\n",
      "in simulation 6\n",
      "in select\n",
      "U: -inf, child visits: 0, child proba: 0.25717341899871826, child mean value: 0\n",
      "U: -inf, child visits: 0, child proba: 0.24197621643543243, child mean value: 0\n",
      "U: -inf, child visits: 0, child proba: 0.12575818598270416, child mean value: 0\n",
      "U: -inf, child visits: 0, child proba: 0.128472700715065, child mean value: 0\n",
      "U: -inf, child visits: 0, child proba: 0.24661947786808014, child mean value: 0\n",
      "in transition\n",
      "in expand\n",
      "in create node\n",
      "in create node\n",
      "in create node\n",
      "in create node\n",
      "in create node\n",
      "[0 3 1 2 0 1 0 0 0 0 0 0 0 0 0 0 0]\n",
      "in simulation 7\n",
      "in select\n",
      "U: -inf, child visits: 0, child proba: 0.15731754899024963, child mean value: 0\n",
      "U: -inf, child visits: 0, child proba: 0.2476944476366043, child mean value: 0\n",
      "U: -inf, child visits: 0, child proba: 0.18900007009506226, child mean value: 0\n",
      "U: -inf, child visits: 0, child proba: 0.21060429513454437, child mean value: 0\n",
      "U: -inf, child visits: 0, child proba: 0.19538363814353943, child mean value: 0\n",
      "in transition\n",
      "in expand\n",
      "in create node\n",
      "in create node\n",
      "in create node\n",
      "in create node\n",
      "in create node\n",
      "[['', '', 'conv2d1x1stride', '', '', '', '', '', '', ''], ['', '', 'conv2d1x1', 'conv2d3x3', '', '', '', '', '', ''], ['', '', '', '', 'conv2d1x1', '', '', '', '', ''], ['', '', '', '', 'conv2d3x3stride', '', '', '', '', ''], ['', '', '', '', '', '', '', '', '', ''], ['', '', '', '', '', '', '', '', '', ''], ['', '', '', '', '', '', '', '', '', ''], ['', '', '', '', '', '', '', '', '', ''], ['', '', '', '', '', '', '', '', '', ''], ['', '', '', '', '', '', '', '', '', '']]\n",
      "`Concatenate` layer requires inputs with matching shapes except for the concat axis. Got inputs shapes: [(None, 16, 16, 8), (None, 8, 8, 8)]\n",
      "in backup\n",
      "-1\n"
     ]
    },
    {
     "name": "stderr",
     "output_type": "stream",
     "text": [
      "\r",
      " 80%|████████  | 8/10 [01:07<00:16,  8.44s/it]"
     ]
    },
    {
     "name": "stdout",
     "output_type": "stream",
     "text": [
      "[0 0 0 0 0 0 0 0 0 0 0 0 0 0 0 0 0]\n",
      "in simulation 8\n",
      "in select\n",
      "U: -inf, child visits: 2, child proba: 0.1105479970574379, child mean value: 0.0\n",
      "U: 0.06035185511579037, child visits: 0, child proba: 0.1256144791841507, child mean value: 0\n",
      "U: 0.17066264878049905, child visits: 0, child proba: 0.35521194338798523, child mean value: 0\n",
      "U: 0.09539771208737655, child visits: 0, child proba: 0.19855783879756927, child mean value: 0\n",
      "U: 0.10092767598601504, child visits: 0, child proba: 0.2100677341222763, child mean value: 0\n",
      "in transition\n",
      "in select\n",
      "U: 0.07459831206533912, child visits: 0, child proba: 0.15526661276817322, child mean value: 0\n",
      "U: 0.07560039321970222, child visits: 0, child proba: 0.15735231339931488, child mean value: 0\n",
      "U: 0.1818698864952019, child visits: 0, child proba: 0.3785383403301239, child mean value: 0\n",
      "U: -inf, child visits: 2, child proba: 0.14535506069660187, child mean value: 0.0\n",
      "U: 0.07854815945662834, child visits: 0, child proba: 0.16348770260810852, child mean value: 0\n",
      "in transition\n",
      "in select\n",
      "U: 0.08311446620590103, child visits: 0, child proba: 0.17299187183380127, child mean value: 0\n",
      "U: -inf, child visits: 2, child proba: 0.3683658838272095, child mean value: 0.0\n",
      "U: 0.06610201784463232, child visits: 0, child proba: 0.1375826895236969, child mean value: 0\n",
      "U: 0.05608466424667178, child visits: 0, child proba: 0.1167328804731369, child mean value: 0\n",
      "U: 0.09816937367087922, child visits: 0, child proba: 0.20432668924331665, child mean value: 0\n",
      "in transition\n",
      "in select\n",
      "U: 0.06448111476070961, child visits: 0, child proba: 0.13420899212360382, child mean value: 0\n",
      "U: 0.16088843243495385, child visits: 0, child proba: 0.3348681926727295, child mean value: 0\n",
      "U: -inf, child visits: 2, child proba: 0.17555023729801178, child mean value: 0.0\n",
      "U: 0.05150404962074786, child visits: 0, child proba: 0.10719893127679825, child mean value: 0\n",
      "U: 0.11923578007755876, child visits: 0, child proba: 0.24817365407943726, child mean value: 0\n",
      "in transition\n",
      "in select\n",
      "U: -inf, child visits: 1, child proba: 0.17907460033893585, child mean value: -1.0\n",
      "U: 0.0, child visits: 0, child proba: 0.2982083559036255, child mean value: 0\n",
      "U: 0.0, child visits: 0, child proba: 0.16664355993270874, child mean value: 0\n",
      "U: 0.0, child visits: 0, child proba: 0.13062383234500885, child mean value: 0\n"
     ]
    },
    {
     "name": "stderr",
     "output_type": "stream",
     "text": [
      "100%|██████████| 10/10 [01:16<00:00,  7.61s/it]"
     ]
    },
    {
     "name": "stdout",
     "output_type": "stream",
     "text": [
      "U: 0.0, child visits: 0, child proba: 0.22544965147972107, child mean value: 0\n",
      "in transition\n",
      "in select\n",
      "U: 0.0, child visits: 0, child proba: 0.25717341899871826, child mean value: 0\n",
      "U: -inf, child visits: 1, child proba: 0.24197621643543243, child mean value: -1.0\n",
      "U: 0.0, child visits: 0, child proba: 0.12575818598270416, child mean value: 0\n",
      "U: 0.0, child visits: 0, child proba: 0.128472700715065, child mean value: 0\n",
      "U: 0.0, child visits: 0, child proba: 0.24661947786808014, child mean value: 0\n",
      "in transition\n",
      "in select\n",
      "U: 0.0, child visits: 0, child proba: 0.15731754899024963, child mean value: 0\n",
      "U: 0.0, child visits: 0, child proba: 0.2476944476366043, child mean value: 0\n",
      "U: 0.0, child visits: 0, child proba: 0.18900007009506226, child mean value: 0\n",
      "U: 0.0, child visits: 0, child proba: 0.21060429513454437, child mean value: 0\n",
      "U: -inf, child visits: 1, child proba: 0.19538363814353943, child mean value: -1.0\n",
      "in transition\n",
      "in select\n",
      "U: -inf, child visits: 0, child proba: 0.23279479146003723, child mean value: 0\n",
      "U: -inf, child visits: 0, child proba: 0.11718905717134476, child mean value: 0\n",
      "U: -inf, child visits: 0, child proba: 0.14046649634838104, child mean value: 0\n",
      "U: -inf, child visits: 0, child proba: 0.3198392987251282, child mean value: 0\n",
      "U: -inf, child visits: 0, child proba: 0.18971037864685059, child mean value: 0\n",
      "in transition\n",
      "in expand\n",
      "in create node\n",
      "in create node\n",
      "in create node\n",
      "in create node\n",
      "in create node\n",
      "[0 3 1 2 0 1 4 3 0 0 0 0 0 0 0 0 0]\n",
      "in simulation 9\n",
      "in select\n",
      "U: -inf, child visits: 0, child proba: 0.1101776733994484, child mean value: 0\n",
      "U: -inf, child visits: 0, child proba: 0.16535237431526184, child mean value: 0\n",
      "U: -inf, child visits: 0, child proba: 0.34766727685928345, child mean value: 0\n",
      "U: -inf, child visits: 0, child proba: 0.25872865319252014, child mean value: 0\n",
      "U: -inf, child visits: 0, child proba: 0.11807404458522797, child mean value: 0\n",
      "in transition\n",
      "in expand\n",
      "in create node\n",
      "in create node\n",
      "in create node\n",
      "in create node\n",
      "in create node\n"
     ]
    },
    {
     "name": "stderr",
     "output_type": "stream",
     "text": [
      "\n"
     ]
    },
    {
     "data": {
      "text/plain": [
       "[(array([0, 3, 1, 2, 0, 0, 0, 0, 0, 0, 0, 0, 0, 0, 0, 0, 0]),\n",
       "  array([ 0.2,  0.2,  0.2,  0.2,  0.2]),\n",
       "  1),\n",
       " (array([0, 3, 1, 2, 0, 1, 4, 0, 0, 0, 0, 0, 0, 0, 0, 0, 0]),\n",
       "  array([ 0.2,  0.2,  0.2,  0.2,  0.2]),\n",
       "  -1)]"
      ]
     },
     "execution_count": 5,
     "metadata": {},
     "output_type": "execute_result"
    }
   ],
   "source": [
    "# self_play()"
   ]
  },
  {
   "cell_type": "code",
   "execution_count": 6,
   "metadata": {
    "collapsed": true
   },
   "outputs": [],
   "source": [
    "# def twosFloor(num):\n",
    "#     if num % 2 == 1:\n",
    "#         return (num - 1) // 2\n",
    "#     else:\n",
    "#         return num // 2\n",
    "\n",
    "# def shiftedTwosFloor(num):\n",
    "#     num += 3\n",
    "#     if num % 2 == 1:\n",
    "#         return (num - 1) // 2\n",
    "#     else:\n",
    "#         return num // 2\n",
    "\n",
    "# new_rep = [3, 3, 0, 4, 2, 3, 4, 0, 0, 0, 0, 0, 0, 0, 0, 0, 0, 0, 0, 0, 0, 0, 0, \n",
    "#            0, 0, 0, 0, 0, 0, 0, 0, 0, 0, 0, 0, 0, 0, 0, 0,]\n",
    "\n",
    "# new_rep = [np.random.randint(0, 4) for _ in range(19)]\n",
    "\n",
    "# max_depth=10\n",
    "# max_width=6\n",
    "# size = len(new_rep)\n",
    "\n",
    "\n",
    "# M = []\n",
    "# for _ in range(np.ceil(size/2)):\n",
    "#     M.append([])\n",
    "#     for _ in range(np.ceil(size/2)):\n",
    "#         M[-1].append(0)\n",
    "# skip_num = 0\n",
    "# ready = False\n",
    "# for i in range(size):\n",
    "#     if skip_num % (max_width-1)\n",
    "#     i = i % (max_depth-1)\n",
    "#     if i == 0:\n",
    "        \n",
    "        \n",
    "#     if (max_width-1-skip_num) > 0 and i % (max_width-1-skip_num) == 0 and ready:\n",
    "#         skip_num += 1\n",
    "#     if (max_width-skip_num-1) > 0:\n",
    "#         i = i % (max_width-skip_num-1)\n",
    "#         ready = True\n",
    "#         i_p = skip_num\n",
    "#         j_p = i+1\n",
    "    \n",
    "# #     0 = [0, 1]\n",
    "# #     0 = [0, 2]\n",
    "# #     0 = ...\n",
    "# #     max_width-1 = [0, max_width]\n",
    "#     try:\n",
    "# #         for _ in range(skip_num):\n",
    "# #             i_p = twosFloor(i_p)\n",
    "# #             j_p = shiftedTwosFloor(i_p)\n",
    "#         M[i_p][j_p] = new_rep[i]\n",
    "#     except:\n",
    "#         print(i_p, j_p)\n",
    "\n",
    "# np.array(M)"
   ]
  },
  {
   "cell_type": "code",
   "execution_count": null,
   "metadata": {
    "collapsed": true
   },
   "outputs": [],
   "source": [
    "# what would you pass into a single alphazero net\n",
    "# "
   ]
  },
  {
   "cell_type": "code",
   "execution_count": null,
   "metadata": {
    "collapsed": true
   },
   "outputs": [],
   "source": [
    "# idea: instead of per layer scoring, could do final model scoring.\n",
    "# since there is a no layer options, all configurations are reachable\n",
    "\n",
    "# issues: less data points\n",
    "# benefits: skip connections don't make a lot of sense if they arent connected to another layer\n",
    "\n",
    "\n",
    "# potential halfway solution: have the scoring only happen on non skip connections, and at the end\n",
    "# I like how that sounds\n",
    "\n",
    "# expanding on that: I think that excluding the evaluation for one node also makes sense,\n",
    "# maybe I can shift the depth by one "
   ]
  },
  {
   "cell_type": "code",
   "execution_count": null,
   "metadata": {
    "collapsed": true
   },
   "outputs": [],
   "source": []
  },
  {
   "cell_type": "code",
   "execution_count": null,
   "metadata": {
    "collapsed": true
   },
   "outputs": [],
   "source": []
  },
  {
   "cell_type": "code",
   "execution_count": null,
   "metadata": {
    "collapsed": true
   },
   "outputs": [],
   "source": []
  },
  {
   "cell_type": "code",
   "execution_count": null,
   "metadata": {
    "ExecuteTime": {
     "start_time": "2018-01-04T20:00:32.260Z"
    },
    "collapsed": true
   },
   "outputs": [],
   "source": [
    "# idea: pass the skip connections as separate planes and process them through a conv\n",
    "# that should remove the notion of sequentialness (which for skip connections dont matter)\n",
    "# the non skip connections are passed as one hots directly to the lstm (and maybe conv too)"
   ]
  },
  {
   "cell_type": "code",
   "execution_count": null,
   "metadata": {
    "collapsed": true
   },
   "outputs": [],
   "source": [
    "# based on the paper, the MCTS might only be used to train alpha go zero, rather than actually be used for play"
   ]
  },
  {
   "cell_type": "code",
   "execution_count": null,
   "metadata": {
    "collapsed": true
   },
   "outputs": [],
   "source": [
    "# idea: realtime MCTS that will attempt to optimize something while running (for example as a keras optimizer\n",
    "# callback)"
   ]
  },
  {
   "cell_type": "code",
   "execution_count": null,
   "metadata": {
    "collapsed": true
   },
   "outputs": [],
   "source": [
    "# idea, rather than having nodes, have a state cache which will reduce redunancy\n",
    "# when a same state is reached, have it point to that existing state"
   ]
  },
  {
   "cell_type": "code",
   "execution_count": null,
   "metadata": {
    "collapsed": true
   },
   "outputs": [],
   "source": []
  }
 ],
 "metadata": {
  "kernelspec": {
   "display_name": "Python 3",
   "language": "python",
   "name": "python3"
  },
  "language_info": {
   "codemirror_mode": {
    "name": "ipython",
    "version": 3
   },
   "file_extension": ".py",
   "mimetype": "text/x-python",
   "name": "python",
   "nbconvert_exporter": "python",
   "pygments_lexer": "ipython3",
   "version": "3.6.3"
  },
  "toc": {
   "nav_menu": {},
   "number_sections": true,
   "sideBar": true,
   "skip_h1_title": false,
   "toc_cell": false,
   "toc_position": {},
   "toc_section_display": "block",
   "toc_window_display": false
  }
 },
 "nbformat": 4,
 "nbformat_minor": 2
}
