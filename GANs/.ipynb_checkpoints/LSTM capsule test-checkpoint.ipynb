{
 "cells": [
  {
   "cell_type": "code",
   "execution_count": 41,
   "metadata": {
    "ExecuteTime": {
     "end_time": "2017-12-28T18:00:56.710616Z",
     "start_time": "2017-12-28T18:00:33.345305Z"
    }
   },
   "outputs": [],
   "source": [
    "import dataset\n",
    "\n",
    "ds = dataset.Dataset(batch_size=512)"
   ]
  },
  {
   "cell_type": "code",
   "execution_count": 42,
   "metadata": {},
   "outputs": [
    {
     "data": {
      "text/plain": [
       "19"
      ]
     },
     "execution_count": 42,
     "metadata": {},
     "output_type": "execute_result"
    }
   ],
   "source": [
    "ds.train_steps"
   ]
  },
  {
   "cell_type": "code",
   "execution_count": 22,
   "metadata": {
    "ExecuteTime": {
     "end_time": "2017-12-28T18:01:18.662570Z",
     "start_time": "2017-12-28T18:01:18.422601Z"
    }
   },
   "outputs": [],
   "source": [
    "from keras.models import Model\n",
    "from keras.layers import (LSTM, Input, Embedding, concatenate, BatchNormalization, \n",
    "                          Activation, Conv2D, Reshape, Flatten, Dense)\n",
    "from IPython.core.debugger import set_trace\n",
    "# so I have 32, 32, 3 and I want 32, 32\n",
    "# I can either add the three channels and divide (info is lost)\n",
    "# or I can get it down to one channel from conv\n",
    "\n",
    "def create_LSTM_net(magnitude = 1, lstm_layers=3, conv_layers=3, lstm_cells=3, conv_cells = 3, lstm_cell_size=3,\n",
    "                    conv_kernel_size=3, conv_filter_size=3, input_shape=(32, 32, 3)):\n",
    "    lstm_layers *= magnitude\n",
    "    conv_layers *= magnitude\n",
    "    lstm_cells *= magnitude\n",
    "    conv_cells *= magnitude\n",
    "#     conv_kernel_size *= magnitude\n",
    "    conv_filter_size *= magnitude\n",
    "    \n",
    "    def CONV_CELL(prev, conv_filter_size):\n",
    "        return Conv2D(conv_filter_size, conv_kernel_size, activation=\"relu\")(prev)\n",
    "    \n",
    "    def CONV_LAYERS(prev, num_layers, num_cells):\n",
    "        prev = BatchNormalization()(prev)\n",
    "        \n",
    "        for i in range(num_layers):\n",
    "            cells = []\n",
    "            for j in range(num_cells):\n",
    "                cells.append(CONV_CELL(prev, conv_filter_size))\n",
    "                \n",
    "            concat = concatenate(cells, axis = -1)\n",
    "            bn = BatchNormalization()(concat)\n",
    "            activation = Activation(\"relu\")(bn)\n",
    "            prev = activation\n",
    "\n",
    "        activation = Conv2D(1, 1)(activation)\n",
    "        sub = int((num_layers*2*((conv_kernel_size-1)/2)))\n",
    "        activation = Reshape((input_shape[0]-sub, input_shape[0]-sub))(activation)\n",
    "            \n",
    "        return activation\n",
    "    \n",
    "    def LSTM_CELL(prev):\n",
    "        return LSTM(lstm_cell_size, return_sequences = True)(prev)\n",
    "\n",
    "    def LSTM_LAYERS(prev, num_layers, num_cells):\n",
    "        for i in range(num_layers):\n",
    "            cells = []\n",
    "            for j in range(num_cells):\n",
    "                cells.append(LSTM_CELL(prev))\n",
    "                \n",
    "            concat = concatenate(cells, axis = -1)\n",
    "            bn = BatchNormalization()(concat)\n",
    "            activation = Activation(\"relu\")(bn)\n",
    "            prev = activation\n",
    "\n",
    "        return bn\n",
    "\n",
    "    inp = Input(shape=input_shape)\n",
    "    \n",
    "    layers = CONV_LAYERS(inp, conv_layers, conv_cells)\n",
    "    layers = LSTM_LAYERS(layers, lstm_layers, lstm_cells)\n",
    "\n",
    "    out = Flatten()(layers)\n",
    "    out = Dense(10, activation = \"softmax\")(out)\n",
    "\n",
    "    model = Model(inputs=inp, outputs=out)\n",
    "    \n",
    "    return model"
   ]
  },
  {
   "cell_type": "code",
   "execution_count": 23,
   "metadata": {
    "ExecuteTime": {
     "end_time": "2017-12-28T18:01:20.303482Z",
     "start_time": "2017-12-28T18:01:20.285551Z"
    },
    "collapsed": true
   },
   "outputs": [],
   "source": [
    "from keras.optimizers import SGD, Nadam\n",
    "from clr_callback import CyclicLR\n",
    "\n",
    "def fit(model):\n",
    "    optim = Nadam()\n",
    "    base_lr = 0.001\n",
    "    max_lr = 0.006\n",
    "    clr = CyclicLR(base_lr=base_lr, max_lr=max_lr,\n",
    "                   step_size=2000., mode='triangular')\n",
    "\n",
    "    model.compile(optimizer=optim,\n",
    "                  loss=\"categorical_crossentropy\", metrics=[\"acc\"])\n",
    "\n",
    "    model.fit_generator(ds.train_gen, ds.train_steps, validation_data=ds.val_gen, validation_steps=ds.val_steps,\n",
    "                        epochs=50, callbacks=[clr], verbose=1)"
   ]
  },
  {
   "cell_type": "code",
   "execution_count": 34,
   "metadata": {
    "ExecuteTime": {
     "end_time": "2017-12-28T18:01:29.999060Z",
     "start_time": "2017-12-28T18:01:27.846022Z"
    },
    "scrolled": true
   },
   "outputs": [],
   "source": [
    "net = create_LSTM_net(magnitude=2)"
   ]
  },
  {
   "cell_type": "code",
   "execution_count": 35,
   "metadata": {
    "ExecuteTime": {
     "end_time": "2017-12-28T18:31:14.741434Z",
     "start_time": "2017-12-28T18:01:31.789480Z"
    }
   },
   "outputs": [
    {
     "ename": "ValueError",
     "evalue": "When using a generator for validation data, you must specify a value for `validation_steps`.",
     "output_type": "error",
     "traceback": [
      "\u001b[0;31m---------------------------------------------------------------------------\u001b[0m",
      "\u001b[0;31mValueError\u001b[0m                                Traceback (most recent call last)",
      "\u001b[0;32m<ipython-input-35-cd4c2612df9a>\u001b[0m in \u001b[0;36m<module>\u001b[0;34m()\u001b[0m\n\u001b[0;32m----> 1\u001b[0;31m \u001b[0mfit\u001b[0m\u001b[0;34m(\u001b[0m\u001b[0mnet\u001b[0m\u001b[0;34m)\u001b[0m\u001b[0;34m\u001b[0m\u001b[0m\n\u001b[0m",
      "\u001b[0;32m<ipython-input-23-8be9542a6f59>\u001b[0m in \u001b[0;36mfit\u001b[0;34m(model)\u001b[0m\n\u001b[1;32m     13\u001b[0m \u001b[0;34m\u001b[0m\u001b[0m\n\u001b[1;32m     14\u001b[0m     model.fit_generator(ds.train_gen, ds.train_steps, validation_data=ds.val_gen, validation_steps=ds.val_steps,\n\u001b[0;32m---> 15\u001b[0;31m                         epochs=50, callbacks=[clr], verbose=1)\n\u001b[0m",
      "\u001b[0;32m~/.conda/envs/main/lib/python3.6/site-packages/keras/legacy/interfaces.py\u001b[0m in \u001b[0;36mwrapper\u001b[0;34m(*args, **kwargs)\u001b[0m\n\u001b[1;32m     86\u001b[0m                 warnings.warn('Update your `' + object_name +\n\u001b[1;32m     87\u001b[0m                               '` call to the Keras 2 API: ' + signature, stacklevel=2)\n\u001b[0;32m---> 88\u001b[0;31m             \u001b[0;32mreturn\u001b[0m \u001b[0mfunc\u001b[0m\u001b[0;34m(\u001b[0m\u001b[0;34m*\u001b[0m\u001b[0margs\u001b[0m\u001b[0;34m,\u001b[0m \u001b[0;34m**\u001b[0m\u001b[0mkwargs\u001b[0m\u001b[0;34m)\u001b[0m\u001b[0;34m\u001b[0m\u001b[0m\n\u001b[0m\u001b[1;32m     89\u001b[0m         \u001b[0mwrapper\u001b[0m\u001b[0;34m.\u001b[0m\u001b[0m_legacy_support_signature\u001b[0m \u001b[0;34m=\u001b[0m \u001b[0minspect\u001b[0m\u001b[0;34m.\u001b[0m\u001b[0mgetargspec\u001b[0m\u001b[0;34m(\u001b[0m\u001b[0mfunc\u001b[0m\u001b[0;34m)\u001b[0m\u001b[0;34m\u001b[0m\u001b[0m\n\u001b[1;32m     90\u001b[0m         \u001b[0;32mreturn\u001b[0m \u001b[0mwrapper\u001b[0m\u001b[0;34m\u001b[0m\u001b[0m\n",
      "\u001b[0;32m~/.conda/envs/main/lib/python3.6/site-packages/keras/engine/training.py\u001b[0m in \u001b[0;36mfit_generator\u001b[0;34m(self, generator, steps_per_epoch, epochs, verbose, callbacks, validation_data, validation_steps, class_weight, max_q_size, workers, pickle_safe, initial_epoch)\u001b[0m\n\u001b[1;32m   1803\u001b[0m                    hasattr(validation_data, '__next__'))\n\u001b[1;32m   1804\u001b[0m         \u001b[0;32mif\u001b[0m \u001b[0mval_gen\u001b[0m \u001b[0;32mand\u001b[0m \u001b[0;32mnot\u001b[0m \u001b[0mvalidation_steps\u001b[0m\u001b[0;34m:\u001b[0m\u001b[0;34m\u001b[0m\u001b[0m\n\u001b[0;32m-> 1805\u001b[0;31m             raise ValueError('When using a generator for validation data, '\n\u001b[0m\u001b[1;32m   1806\u001b[0m                              \u001b[0;34m'you must specify a value for '\u001b[0m\u001b[0;34m\u001b[0m\u001b[0m\n\u001b[1;32m   1807\u001b[0m                              '`validation_steps`.')\n",
      "\u001b[0;31mValueError\u001b[0m: When using a generator for validation data, you must specify a value for `validation_steps`."
     ]
    }
   ],
   "source": [
    "fit(net)"
   ]
  },
  {
   "cell_type": "code",
   "execution_count": null,
   "metadata": {
    "collapsed": true
   },
   "outputs": [],
   "source": []
  }
 ],
 "metadata": {
  "kernelspec": {
   "display_name": "Python 3",
   "language": "python",
   "name": "python3"
  },
  "language_info": {
   "codemirror_mode": {
    "name": "ipython",
    "version": 3
   },
   "file_extension": ".py",
   "mimetype": "text/x-python",
   "name": "python",
   "nbconvert_exporter": "python",
   "pygments_lexer": "ipython3",
   "version": "3.6.3"
  },
  "toc": {
   "nav_menu": {},
   "number_sections": true,
   "sideBar": true,
   "skip_h1_title": false,
   "toc_cell": false,
   "toc_position": {},
   "toc_section_display": "block",
   "toc_window_display": false
  }
 },
 "nbformat": 4,
 "nbformat_minor": 2
}
