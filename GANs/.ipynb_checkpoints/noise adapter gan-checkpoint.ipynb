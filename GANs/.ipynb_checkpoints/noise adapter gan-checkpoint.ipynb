{
 "cells": [
  {
   "cell_type": "code",
   "execution_count": 1,
   "metadata": {
    "ExecuteTime": {
     "end_time": "2017-12-26T17:11:48.605484Z",
     "start_time": "2017-12-26T17:10:48.466934Z"
    }
   },
   "outputs": [
    {
     "name": "stderr",
     "output_type": "stream",
     "text": [
      "Using TensorFlow backend.\n"
     ]
    },
    {
     "name": "stdout",
     "output_type": "stream",
     "text": [
      "WARNING: number of categories is hardcoded, should make dynamic\n",
      "WARNING: number of categories is hardcoded, should make dynamic\n"
     ]
    }
   ],
   "source": [
    "import dataset\n",
    "\n",
    "ds = dataset.Dataset()"
   ]
  },
  {
   "cell_type": "code",
   "execution_count": 2,
   "metadata": {
    "ExecuteTime": {
     "end_time": "2017-12-26T17:11:48.635764Z",
     "start_time": "2017-12-26T17:11:48.627329Z"
    }
   },
   "outputs": [],
   "source": [
    "import numpy as np\n",
    "def PosNormal(mean, sigma):\n",
    "    x = np.random.normal(xbar,delta_xbar,1)\n",
    "    return(x if x>=0 else PosNormal(mean,sigma))"
   ]
  },
  {
   "cell_type": "code",
   "execution_count": 3,
   "metadata": {
    "ExecuteTime": {
     "end_time": "2017-12-26T17:11:48.980436Z",
     "start_time": "2017-12-26T17:11:48.643230Z"
    }
   },
   "outputs": [
    {
     "data": {
      "text/plain": [
       "array([[[ 0.21166043,  0.4772091 ,  0.80797618],\n",
       "        [ 0.46942654,  0.45322036,  0.02051879],\n",
       "        [ 0.95220257,  1.18126901,  0.35664092],\n",
       "        ..., \n",
       "        [ 0.0083142 ,  1.39145741,  0.39999356],\n",
       "        [ 0.09551466,  1.56019331,  1.45370658],\n",
       "        [ 1.05749392,  0.01816132,  0.40965545]],\n",
       "\n",
       "       [[ 1.31119971,  1.73755249,  0.92241258],\n",
       "        [ 0.0947313 ,  2.44403379,  0.50431488],\n",
       "        [ 0.83738252,  0.74038621,  0.98667467],\n",
       "        ..., \n",
       "        [ 2.39383574,  1.39976457,  1.32206952],\n",
       "        [ 0.56215961,  0.33298063,  0.224076  ],\n",
       "        [ 0.10532339,  0.65301833,  1.92445925]],\n",
       "\n",
       "       [[ 2.67766526,  0.5315205 ,  2.0223938 ],\n",
       "        [ 0.54596307,  0.34105275,  0.1683546 ],\n",
       "        [ 0.2733254 ,  0.16190436,  1.78073114],\n",
       "        ..., \n",
       "        [ 0.9812969 ,  0.16630902,  1.43307844],\n",
       "        [ 1.2388349 ,  0.53986013,  0.48368109],\n",
       "        [ 1.54138333,  0.76396529,  0.5651463 ]],\n",
       "\n",
       "       ..., \n",
       "       [[ 0.43545057,  0.05509278,  1.09501319],\n",
       "        [ 0.11905103,  0.61131671,  0.91833295],\n",
       "        [ 1.8407094 ,  0.62547288,  0.61193366],\n",
       "        ..., \n",
       "        [ 2.764611  ,  0.47627327,  0.99230332],\n",
       "        [ 0.51354512,  0.21032408,  0.72306077],\n",
       "        [ 0.37991334,  0.00626171,  0.07820033]],\n",
       "\n",
       "       [[ 0.03788274,  0.26394041,  0.07058369],\n",
       "        [ 0.42039896,  0.51133997,  0.39083122],\n",
       "        [ 0.81855852,  0.22156441,  1.07420251],\n",
       "        ..., \n",
       "        [ 0.70620434,  2.0018787 ,  1.43915167],\n",
       "        [ 2.04339978,  0.88205005,  1.0205605 ],\n",
       "        [ 0.70844299,  0.07441874,  0.35005061]],\n",
       "\n",
       "       [[ 0.78580782,  0.07247115,  0.45264091],\n",
       "        [ 0.54825797,  0.18504086,  0.76032989],\n",
       "        [ 0.69574536,  1.47049626,  1.19221638],\n",
       "        ..., \n",
       "        [ 1.83743659,  0.04949264,  0.04359477],\n",
       "        [ 0.51347647,  2.1088741 ,  1.73287639],\n",
       "        [ 1.62387304,  0.8375688 ,  1.35178478]]])"
      ]
     },
     "execution_count": 3,
     "metadata": {},
     "output_type": "execute_result"
    }
   ],
   "source": [
    "from scipy.stats import truncnorm\n",
    "\n",
    "def get_truncated_normal(mean=0, sd=1, low=0, upp=10):\n",
    "    return truncnorm(\n",
    "        (low - mean) / sd, (upp - mean) / sd, loc=mean, scale=sd)\n",
    "\n",
    "test = get_truncated_normal()\n",
    "\n",
    "test.rvs((32, 32, 3))"
   ]
  },
  {
   "cell_type": "code",
   "execution_count": 4,
   "metadata": {
    "ExecuteTime": {
     "end_time": "2017-12-26T17:11:49.157416Z",
     "start_time": "2017-12-26T17:11:48.983873Z"
    }
   },
   "outputs": [],
   "source": [
    "def binary_crossentropy(y, p):\n",
    "    return -1*(y*np.log(p) + (1-y)*np.log(1-p))"
   ]
  },
  {
   "cell_type": "code",
   "execution_count": 26,
   "metadata": {
    "ExecuteTime": {
     "end_time": "2017-12-26T17:22:37.579474Z",
     "start_time": "2017-12-26T17:22:22.586437Z"
    },
    "scrolled": true
   },
   "outputs": [
    {
     "name": "stderr",
     "output_type": "stream",
     "text": [
      "\n",
      "  0%|          | 0/10000 [00:00<?, ?it/s]\u001b[A/home/jprothero/Projects/miniconda3/envs/py3/lib/python3.6/site-packages/ipykernel_launcher.py:2: RuntimeWarning: divide by zero encountered in log\n",
      "  \n",
      "\n",
      "  1%|          | 79/10000 [00:00<00:12, 777.82it/s]\u001b[A\n",
      "  2%|▏         | 152/10000 [00:00<00:13, 750.67it/s]\u001b[A\n",
      "  2%|▏         | 211/10000 [00:00<00:14, 696.17it/s]\u001b[A\n",
      "  3%|▎         | 267/10000 [00:00<00:14, 662.95it/s]\u001b[A\n",
      "  3%|▎         | 340/10000 [00:00<00:14, 674.26it/s]\u001b[A\n",
      "  4%|▍         | 412/10000 [00:00<00:14, 680.96it/s]\u001b[A\n",
      "  5%|▍         | 486/10000 [00:00<00:13, 688.27it/s]\u001b[A\n",
      "  6%|▌         | 560/10000 [00:00<00:13, 693.70it/s]\u001b[A\n",
      "  6%|▋         | 636/10000 [00:00<00:13, 699.75it/s]\u001b[A\n",
      "  7%|▋         | 711/10000 [00:01<00:13, 704.20it/s]\u001b[A\n",
      "  8%|▊         | 787/10000 [00:01<00:13, 708.61it/s]\u001b[A\n",
      "  9%|▊         | 862/10000 [00:01<00:12, 711.43it/s]\u001b[A\n",
      "  9%|▉         | 935/10000 [00:01<00:12, 711.70it/s]\u001b[A\n",
      " 10%|█         | 1008/10000 [00:01<00:12, 707.64it/s]\u001b[A\n",
      " 11%|█         | 1081/10000 [00:01<00:12, 708.64it/s]\u001b[A\n",
      " 12%|█▏        | 1155/10000 [00:01<00:12, 710.32it/s]\u001b[A\n",
      " 12%|█▏        | 1228/10000 [00:01<00:12, 710.72it/s]\u001b[A\n",
      " 13%|█▎        | 1301/10000 [00:01<00:12, 707.52it/s]\u001b[A\n",
      " 14%|█▎        | 1371/10000 [00:01<00:12, 705.12it/s]\u001b[A\n",
      " 14%|█▍        | 1443/10000 [00:02<00:12, 705.54it/s]\u001b[A\n",
      " 15%|█▌        | 1518/10000 [00:02<00:11, 707.57it/s]\u001b[A\n",
      " 16%|█▌        | 1590/10000 [00:02<00:11, 707.23it/s]\u001b[A\n",
      " 17%|█▋        | 1662/10000 [00:02<00:11, 707.51it/s]\u001b[A\n",
      " 17%|█▋        | 1734/10000 [00:02<00:11, 699.50it/s]\u001b[A\n",
      " 18%|█▊        | 1802/10000 [00:02<00:11, 698.70it/s]\u001b[A\n",
      " 19%|█▉        | 1875/10000 [00:02<00:11, 699.39it/s]\u001b[A\n",
      " 19%|█▉        | 1944/10000 [00:02<00:11, 699.07it/s]\u001b[A\n",
      " 20%|██        | 2018/10000 [00:02<00:11, 700.42it/s]\u001b[A\n",
      " 21%|██        | 2088/10000 [00:02<00:11, 699.81it/s]\u001b[A\n",
      " 22%|██▏       | 2160/10000 [00:03<00:11, 700.41it/s]\u001b[A\n",
      " 22%|██▏       | 2233/10000 [00:03<00:11, 700.99it/s]\u001b[A\n",
      " 23%|██▎       | 2307/10000 [00:03<00:10, 701.94it/s]\u001b[A\n",
      " 24%|██▍       | 2379/10000 [00:03<00:10, 701.48it/s]\u001b[A\n",
      " 25%|██▍       | 2455/10000 [00:03<00:10, 703.01it/s]\u001b[A\n",
      " 25%|██▌       | 2527/10000 [00:03<00:10, 701.65it/s]\u001b[A\n",
      " 26%|██▌       | 2599/10000 [00:03<00:10, 702.06it/s]\u001b[A\n",
      " 27%|██▋       | 2670/10000 [00:03<00:10, 700.47it/s]\u001b[A\n",
      " 27%|██▋       | 2741/10000 [00:03<00:10, 700.55it/s]\u001b[A\n",
      " 28%|██▊       | 2812/10000 [00:04<00:10, 700.57it/s]\u001b[A\n",
      " 29%|██▉       | 2885/10000 [00:04<00:10, 700.98it/s]\u001b[A\n",
      " 30%|██▉       | 2958/10000 [00:04<00:10, 701.54it/s]\u001b[A\n",
      " 30%|███       | 3030/10000 [00:04<00:09, 701.99it/s]\u001b[A\n",
      " 31%|███       | 3102/10000 [00:04<00:09, 702.31it/s]\u001b[A\n",
      " 32%|███▏      | 3177/10000 [00:04<00:09, 703.06it/s]\u001b[A\n",
      " 33%|███▎      | 3251/10000 [00:04<00:09, 703.69it/s]\u001b[A\n",
      " 33%|███▎      | 3324/10000 [00:04<00:09, 703.24it/s]\u001b[A\n",
      " 34%|███▍      | 3396/10000 [00:04<00:09, 702.82it/s]\u001b[A\n",
      " 35%|███▍      | 3467/10000 [00:04<00:09, 702.24it/s]\u001b[A\n",
      " 35%|███▌      | 3538/10000 [00:05<00:09, 702.35it/s]\u001b[A\n",
      " 36%|███▌      | 3612/10000 [00:05<00:09, 703.01it/s]\u001b[A\n",
      " 37%|███▋      | 3683/10000 [00:05<00:08, 702.69it/s]\u001b[A\n",
      " 38%|███▊      | 3754/10000 [00:05<00:08, 701.72it/s]\u001b[A\n",
      " 38%|███▊      | 3823/10000 [00:05<00:08, 701.18it/s]\u001b[A\n",
      " 39%|███▉      | 3894/10000 [00:05<00:08, 701.22it/s]\u001b[A\n",
      " 40%|███▉      | 3966/10000 [00:05<00:08, 701.42it/s]\u001b[A\n",
      " 40%|████      | 4041/10000 [00:05<00:08, 702.29it/s]\u001b[A\n",
      " 41%|████      | 4117/10000 [00:05<00:08, 703.23it/s]\u001b[A\n",
      " 42%|████▏     | 4191/10000 [00:05<00:08, 703.73it/s]\u001b[A\n",
      " 43%|████▎     | 4264/10000 [00:06<00:08, 702.68it/s]\u001b[A\n",
      " 43%|████▎     | 4336/10000 [00:06<00:08, 701.89it/s]\u001b[A\n",
      " 44%|████▍     | 4406/10000 [00:06<00:07, 701.70it/s]\u001b[A\n",
      " 45%|████▍     | 4475/10000 [00:06<00:07, 700.91it/s]\u001b[A\n",
      " 45%|████▌     | 4549/10000 [00:06<00:07, 701.49it/s]\u001b[A\n",
      " 46%|████▌     | 4619/10000 [00:06<00:07, 699.66it/s]\u001b[A\n",
      " 47%|████▋     | 4688/10000 [00:06<00:07, 699.39it/s]\u001b[A\n",
      " 48%|████▊     | 4756/10000 [00:06<00:07, 698.67it/s]\u001b[A\n",
      " 48%|████▊     | 4832/10000 [00:06<00:07, 699.48it/s]\u001b[A\n",
      " 49%|████▉     | 4905/10000 [00:07<00:07, 699.43it/s]\u001b[A\n",
      " 50%|████▉     | 4975/10000 [00:07<00:07, 698.74it/s]\u001b[A\n",
      " 50%|█████     | 5044/10000 [00:07<00:07, 698.55it/s]\u001b[A\n",
      " 51%|█████     | 5116/10000 [00:07<00:06, 698.85it/s]\u001b[A\n",
      " 52%|█████▏    | 5192/10000 [00:07<00:06, 699.66it/s]\u001b[A\n",
      " 53%|█████▎    | 5266/10000 [00:07<00:06, 700.11it/s]\u001b[A\n",
      " 53%|█████▎    | 5342/10000 [00:07<00:06, 700.85it/s]\u001b[A\n",
      " 54%|█████▍    | 5415/10000 [00:07<00:06, 699.36it/s]\u001b[A\n",
      " 55%|█████▍    | 5488/10000 [00:07<00:06, 699.74it/s]\u001b[A\n",
      " 56%|█████▌    | 5561/10000 [00:07<00:06, 699.98it/s]\u001b[A\n",
      " 56%|█████▋    | 5635/10000 [00:08<00:06, 700.35it/s]\u001b[A\n",
      " 57%|█████▋    | 5707/10000 [00:08<00:06, 700.01it/s]\u001b[A\n",
      " 58%|█████▊    | 5780/10000 [00:08<00:06, 700.29it/s]\u001b[A\n",
      " 59%|█████▊    | 5854/10000 [00:08<00:05, 700.72it/s]\u001b[A\n",
      " 59%|█████▉    | 5929/10000 [00:08<00:05, 701.21it/s]\u001b[A\n",
      " 60%|██████    | 6002/10000 [00:08<00:05, 701.36it/s]\u001b[A\n",
      " 61%|██████    | 6075/10000 [00:08<00:05, 701.49it/s]\u001b[A\n",
      " 61%|██████▏   | 6148/10000 [00:08<00:05, 701.83it/s]\u001b[A\n",
      " 62%|██████▏   | 6221/10000 [00:08<00:05, 702.01it/s]\u001b[A\n",
      " 63%|██████▎   | 6294/10000 [00:08<00:05, 702.05it/s]\u001b[A\n",
      " 64%|██████▎   | 6369/10000 [00:09<00:05, 702.64it/s]\u001b[A\n",
      " 64%|██████▍   | 6444/10000 [00:09<00:05, 703.13it/s]\u001b[A\n",
      " 65%|██████▌   | 6519/10000 [00:09<00:04, 703.31it/s]\u001b[A\n",
      " 66%|██████▌   | 6593/10000 [00:09<00:04, 703.41it/s]\u001b[A\n",
      "Exception in thread Thread-10:\n",
      "Traceback (most recent call last):\n",
      "  File \"/home/jprothero/Projects/miniconda3/envs/py3/lib/python3.6/threading.py\", line 916, in _bootstrap_inner\n",
      "    self.run()\n",
      "  File \"/home/jprothero/Projects/miniconda3/envs/py3/lib/python3.6/site-packages/tqdm/_tqdm.py\", line 144, in run\n",
      "    for instance in self.tqdm_cls._instances:\n",
      "  File \"/home/jprothero/Projects/miniconda3/envs/py3/lib/python3.6/_weakrefset.py\", line 60, in __iter__\n",
      "    for itemref in self.data:\n",
      "RuntimeError: Set changed size during iteration\n",
      "\n",
      "100%|██████████| 10000/10000 [00:13<00:00, 718.72it/s]\n"
     ]
    }
   ],
   "source": [
    "import numpy as np\n",
    "from tqdm import tqdm\n",
    "from IPython.core.debugger import set_trace\n",
    "from copy import deepcopy\n",
    "\n",
    "def generate_training_data(num_samples=10000, input_shape=(32, 32, 3)):\n",
    "    np.random.seed(0)\n",
    "    orig = np.random.uniform(size=(32, 32, 3))\n",
    "    np.random.seed(1)\n",
    "    target = np.random.uniform(size = (32, 32, 3))\n",
    "    np.random.seed()\n",
    "    \n",
    "    inputs = []\n",
    "    targets = []\n",
    "    \n",
    "    for i in tqdm(range(num_samples)):\n",
    "        noise = (np.random.uniform(size = (32, 32, 3))-.5)*.5\n",
    "        inputs.append([deepcopy(orig), deepcopy(noise)])\n",
    "        orig_loss = binary_crossentropy(target, orig)\n",
    "        orig_noise = orig+noise\n",
    "        orig_noise = np.where(orig_noise < 0, 0, orig_noise)\n",
    "        orig_noise = np.where(orig_noise > 1, 1, orig_noise)\n",
    "        orig_noise_loss = binary_crossentropy(target, orig_noise)\n",
    "        optimal_mask = np.where(orig_loss > orig_noise_loss, 1, 0)\n",
    "        orig += (noise * optimal_mask)\n",
    "        orig = np.where(orig < 0, 0, orig)\n",
    "        orig = np.where(orig > 1, 1, orig)\n",
    "        targets.append(deepcopy(orig))\n",
    "    return np.array(inputs), np.array(targets)\n",
    "\n",
    "inputs, targets = generate_training_data()"
   ]
  },
  {
   "cell_type": "code",
   "execution_count": 7,
   "metadata": {
    "ExecuteTime": {
     "end_time": "2017-12-26T17:13:04.340129Z",
     "start_time": "2017-12-26T17:13:02.035727Z"
    }
   },
   "outputs": [
    {
     "name": "stdout",
     "output_type": "stream",
     "text": [
      "_________________________________________________________________\n",
      "Layer (type)                 Output Shape              Param #   \n",
      "=================================================================\n",
      "input_1 (InputLayer)         (None, 2, 32, 32, 3)      0         \n",
      "_________________________________________________________________\n",
      "conv_lst_m2d_1 (ConvLSTM2D)  (None, 2, 32, 32, 64)     17408     \n",
      "_________________________________________________________________\n",
      "conv_lst_m2d_2 (ConvLSTM2D)  (None, 32, 32, 3)         816       \n",
      "=================================================================\n",
      "Total params: 18,224\n",
      "Trainable params: 18,224\n",
      "Non-trainable params: 0\n",
      "_________________________________________________________________\n"
     ]
    }
   ],
   "source": [
    "from keras.layers import Conv2D, Dense, Input, LSTM, TimeDistributed, Reshape, ConvLSTM2D\n",
    "from keras.models import Model\n",
    "\n",
    "def create_random_lstm():\n",
    "    inp = Input(shape = (2, 32, 32, 3))\n",
    "    x = ConvLSTM2D(128, 1, return_sequences=True)(inp)\n",
    "    x = ConvLSTM2D(128, 1, return_sequences=True)(x)\n",
    "    out = ConvLSTM2D(3, 1, return_sequences=False)(x)\n",
    "\n",
    "    model = Model(inputs=inp, outputs=out)\n",
    "    model.summary()\n",
    "\n",
    "    return model\n",
    "\n",
    "model = create_random_lstm()"
   ]
  },
  {
   "cell_type": "code",
   "execution_count": 8,
   "metadata": {
    "ExecuteTime": {
     "end_time": "2017-12-26T17:13:06.729802Z",
     "start_time": "2017-12-26T17:13:06.691845Z"
    }
   },
   "outputs": [],
   "source": [
    "from keras.optimizers import SGD, Nadam\n",
    "from clr_callback import CyclicLR\n",
    "\n",
    "def fit(model, inputs=inputs, targets=targets):\n",
    "    optim = Nadam()\n",
    "    base_lr = 0.001\n",
    "    max_lr = 0.006\n",
    "    clr = CyclicLR(base_lr=base_lr, max_lr=max_lr,\n",
    "                   step_size=2000., mode='triangular')\n",
    "\n",
    "    model.compile(optimizer=optim,\n",
    "                  loss=\"binary_crossentropy\")\n",
    "    \n",
    "    model.fit(inputs, targets, batch_size=32, callbacks=[clr])"
   ]
  },
  {
   "cell_type": "code",
   "execution_count": 17,
   "metadata": {
    "ExecuteTime": {
     "end_time": "2017-12-26T17:14:02.086026Z",
     "start_time": "2017-12-26T17:14:02.066443Z"
    }
   },
   "outputs": [
    {
     "data": {
      "text/plain": [
       "array([[[ 1.08831644,  1.44435851,  1.03880162],\n",
       "        [ 1.0966696 ,  1.08439164,  1.11792326],\n",
       "        [ 1.54841324,  1.59425864,  1.63700735],\n",
       "        ..., \n",
       "        [ 1.9266183 ,  1.32376858,  1.70116439],\n",
       "        [ 1.54204923,  1.47848568,  1.00369084],\n",
       "        [ 1.30405886,  1.13852612,  1.16159992]],\n",
       "\n",
       "       [[ 1.43395394,  1.55260181,  1.12448462],\n",
       "        [ 1.22243974,  1.22153585,  1.17996169],\n",
       "        [ 1.68413718,  1.78484002,  1.16072092],\n",
       "        ..., \n",
       "        [ 1.10489908,  1.25236225,  1.44316603],\n",
       "        [ 1.35907592,  1.33375152,  1.20559963],\n",
       "        [ 1.86063213,  1.10431343,  1.14502669]],\n",
       "\n",
       "       [[ 1.15509156,  1.6860279 ,  1.56452028],\n",
       "        [ 1.06468485,  1.66048827,  1.50542708],\n",
       "        [ 1.76872726,  1.43227447,  1.71218422],\n",
       "        ..., \n",
       "        [ 1.68566853,  1.69005783,  1.78882316],\n",
       "        [ 1.33210952,  1.28014435,  1.07343086],\n",
       "        [ 1.0635983 ,  1.6070435 ,  1.08881018]],\n",
       "\n",
       "       ..., \n",
       "       [[ 1.61504097,  1.24182254,  1.40473087],\n",
       "        [ 1.27153888,  1.19393711,  1.95714278],\n",
       "        [ 1.56958047,  1.44650908,  1.66046222],\n",
       "        ..., \n",
       "        [ 1.50921413,  1.10211627,  1.49544415],\n",
       "        [ 1.15037305,  1.14174631,  1.60093561],\n",
       "        [ 1.71852443,  1.63039491,  1.09036175]],\n",
       "\n",
       "       [[ 1.59546095,  1.13840909,  1.7565781 ],\n",
       "        [ 1.84200679,  1.06982014,  1.04587541],\n",
       "        [ 1.59298966,  1.80711749,  1.05985416],\n",
       "        ..., \n",
       "        [ 1.79175335,  1.02074604,  1.17464845],\n",
       "        [ 1.14729535,  1.71180321,  1.93083741],\n",
       "        [ 1.43076691,  1.27895699,  1.02933558]],\n",
       "\n",
       "       [[ 1.09144057,  1.38825585,  1.24303212],\n",
       "        [ 1.10128548,  1.14236449,  1.15941007],\n",
       "        [ 1.01445299,  1.03801499,  1.32333105],\n",
       "        ..., \n",
       "        [ 1.92182079,  1.37429315,  1.24143505],\n",
       "        [ 1.28451662,  1.10743147,  1.11580043],\n",
       "        [ 1.19815311,  1.13060898,  1.25630443]]])"
      ]
     },
     "execution_count": 17,
     "metadata": {},
     "output_type": "execute_result"
    }
   ],
   "source": [
    "inputs[0],\n",
    "targets[0]"
   ]
  },
  {
   "cell_type": "code",
   "execution_count": 9,
   "metadata": {
    "ExecuteTime": {
     "end_time": "2017-12-26T17:13:24.321995Z",
     "start_time": "2017-12-26T17:13:07.554030Z"
    }
   },
   "outputs": [
    {
     "name": "stdout",
     "output_type": "stream",
     "text": [
      "Epoch 1/1\n",
      "  160/10000 [..............................] - ETA: 699s - loss: 21.7943"
     ]
    },
    {
     "ename": "KeyboardInterrupt",
     "evalue": "",
     "output_type": "error",
     "traceback": [
      "\u001b[0;31m---------------------------------------------------------------------------\u001b[0m",
      "\u001b[0;31mKeyboardInterrupt\u001b[0m                         Traceback (most recent call last)",
      "\u001b[0;32m<ipython-input-9-ec31ac88c4c0>\u001b[0m in \u001b[0;36m<module>\u001b[0;34m()\u001b[0m\n\u001b[0;32m----> 1\u001b[0;31m \u001b[0mfit\u001b[0m\u001b[0;34m(\u001b[0m\u001b[0mmodel\u001b[0m\u001b[0;34m)\u001b[0m\u001b[0;34m\u001b[0m\u001b[0m\n\u001b[0m",
      "\u001b[0;32m<ipython-input-8-fc8d01652b63>\u001b[0m in \u001b[0;36mfit\u001b[0;34m(model, inputs, targets)\u001b[0m\n\u001b[1;32m     12\u001b[0m                   loss=\"binary_crossentropy\")\n\u001b[1;32m     13\u001b[0m \u001b[0;34m\u001b[0m\u001b[0m\n\u001b[0;32m---> 14\u001b[0;31m     \u001b[0mmodel\u001b[0m\u001b[0;34m.\u001b[0m\u001b[0mfit\u001b[0m\u001b[0;34m(\u001b[0m\u001b[0minputs\u001b[0m\u001b[0;34m,\u001b[0m \u001b[0mtargets\u001b[0m\u001b[0;34m,\u001b[0m \u001b[0mbatch_size\u001b[0m\u001b[0;34m=\u001b[0m\u001b[0;36m32\u001b[0m\u001b[0;34m,\u001b[0m \u001b[0mcallbacks\u001b[0m\u001b[0;34m=\u001b[0m\u001b[0;34m[\u001b[0m\u001b[0mclr\u001b[0m\u001b[0;34m]\u001b[0m\u001b[0;34m)\u001b[0m\u001b[0;34m\u001b[0m\u001b[0m\n\u001b[0m",
      "\u001b[0;32m~/Projects/miniconda3/envs/py3/lib/python3.6/site-packages/keras/engine/training.py\u001b[0m in \u001b[0;36mfit\u001b[0;34m(self, x, y, batch_size, epochs, verbose, callbacks, validation_split, validation_data, shuffle, class_weight, sample_weight, initial_epoch, steps_per_epoch, validation_steps, **kwargs)\u001b[0m\n\u001b[1;32m   1596\u001b[0m                               \u001b[0minitial_epoch\u001b[0m\u001b[0;34m=\u001b[0m\u001b[0minitial_epoch\u001b[0m\u001b[0;34m,\u001b[0m\u001b[0;34m\u001b[0m\u001b[0m\n\u001b[1;32m   1597\u001b[0m                               \u001b[0msteps_per_epoch\u001b[0m\u001b[0;34m=\u001b[0m\u001b[0msteps_per_epoch\u001b[0m\u001b[0;34m,\u001b[0m\u001b[0;34m\u001b[0m\u001b[0m\n\u001b[0;32m-> 1598\u001b[0;31m                               validation_steps=validation_steps)\n\u001b[0m\u001b[1;32m   1599\u001b[0m \u001b[0;34m\u001b[0m\u001b[0m\n\u001b[1;32m   1600\u001b[0m     def evaluate(self, x, y,\n",
      "\u001b[0;32m~/Projects/miniconda3/envs/py3/lib/python3.6/site-packages/keras/engine/training.py\u001b[0m in \u001b[0;36m_fit_loop\u001b[0;34m(self, f, ins, out_labels, batch_size, epochs, verbose, callbacks, val_f, val_ins, shuffle, callback_metrics, initial_epoch, steps_per_epoch, validation_steps)\u001b[0m\n\u001b[1;32m   1181\u001b[0m                     \u001b[0mbatch_logs\u001b[0m\u001b[0;34m[\u001b[0m\u001b[0;34m'size'\u001b[0m\u001b[0;34m]\u001b[0m \u001b[0;34m=\u001b[0m \u001b[0mlen\u001b[0m\u001b[0;34m(\u001b[0m\u001b[0mbatch_ids\u001b[0m\u001b[0;34m)\u001b[0m\u001b[0;34m\u001b[0m\u001b[0m\n\u001b[1;32m   1182\u001b[0m                     \u001b[0mcallbacks\u001b[0m\u001b[0;34m.\u001b[0m\u001b[0mon_batch_begin\u001b[0m\u001b[0;34m(\u001b[0m\u001b[0mbatch_index\u001b[0m\u001b[0;34m,\u001b[0m \u001b[0mbatch_logs\u001b[0m\u001b[0;34m)\u001b[0m\u001b[0;34m\u001b[0m\u001b[0m\n\u001b[0;32m-> 1183\u001b[0;31m                     \u001b[0mouts\u001b[0m \u001b[0;34m=\u001b[0m \u001b[0mf\u001b[0m\u001b[0;34m(\u001b[0m\u001b[0mins_batch\u001b[0m\u001b[0;34m)\u001b[0m\u001b[0;34m\u001b[0m\u001b[0m\n\u001b[0m\u001b[1;32m   1184\u001b[0m                     \u001b[0;32mif\u001b[0m \u001b[0;32mnot\u001b[0m \u001b[0misinstance\u001b[0m\u001b[0;34m(\u001b[0m\u001b[0mouts\u001b[0m\u001b[0;34m,\u001b[0m \u001b[0mlist\u001b[0m\u001b[0;34m)\u001b[0m\u001b[0;34m:\u001b[0m\u001b[0;34m\u001b[0m\u001b[0m\n\u001b[1;32m   1185\u001b[0m                         \u001b[0mouts\u001b[0m \u001b[0;34m=\u001b[0m \u001b[0;34m[\u001b[0m\u001b[0mouts\u001b[0m\u001b[0;34m]\u001b[0m\u001b[0;34m\u001b[0m\u001b[0m\n",
      "\u001b[0;32m~/Projects/miniconda3/envs/py3/lib/python3.6/site-packages/keras/backend/tensorflow_backend.py\u001b[0m in \u001b[0;36m__call__\u001b[0;34m(self, inputs)\u001b[0m\n\u001b[1;32m   2271\u001b[0m         updated = session.run(self.outputs + [self.updates_op],\n\u001b[1;32m   2272\u001b[0m                               \u001b[0mfeed_dict\u001b[0m\u001b[0;34m=\u001b[0m\u001b[0mfeed_dict\u001b[0m\u001b[0;34m,\u001b[0m\u001b[0;34m\u001b[0m\u001b[0m\n\u001b[0;32m-> 2273\u001b[0;31m                               **self.session_kwargs)\n\u001b[0m\u001b[1;32m   2274\u001b[0m         \u001b[0;32mreturn\u001b[0m \u001b[0mupdated\u001b[0m\u001b[0;34m[\u001b[0m\u001b[0;34m:\u001b[0m\u001b[0mlen\u001b[0m\u001b[0;34m(\u001b[0m\u001b[0mself\u001b[0m\u001b[0;34m.\u001b[0m\u001b[0moutputs\u001b[0m\u001b[0;34m)\u001b[0m\u001b[0;34m]\u001b[0m\u001b[0;34m\u001b[0m\u001b[0m\n\u001b[1;32m   2275\u001b[0m \u001b[0;34m\u001b[0m\u001b[0m\n",
      "\u001b[0;32m~/Projects/miniconda3/envs/py3/lib/python3.6/site-packages/tensorflow/python/client/session.py\u001b[0m in \u001b[0;36mrun\u001b[0;34m(self, fetches, feed_dict, options, run_metadata)\u001b[0m\n\u001b[1;32m    893\u001b[0m     \u001b[0;32mtry\u001b[0m\u001b[0;34m:\u001b[0m\u001b[0;34m\u001b[0m\u001b[0m\n\u001b[1;32m    894\u001b[0m       result = self._run(None, fetches, feed_dict, options_ptr,\n\u001b[0;32m--> 895\u001b[0;31m                          run_metadata_ptr)\n\u001b[0m\u001b[1;32m    896\u001b[0m       \u001b[0;32mif\u001b[0m \u001b[0mrun_metadata\u001b[0m\u001b[0;34m:\u001b[0m\u001b[0;34m\u001b[0m\u001b[0m\n\u001b[1;32m    897\u001b[0m         \u001b[0mproto_data\u001b[0m \u001b[0;34m=\u001b[0m \u001b[0mtf_session\u001b[0m\u001b[0;34m.\u001b[0m\u001b[0mTF_GetBuffer\u001b[0m\u001b[0;34m(\u001b[0m\u001b[0mrun_metadata_ptr\u001b[0m\u001b[0;34m)\u001b[0m\u001b[0;34m\u001b[0m\u001b[0m\n",
      "\u001b[0;32m~/Projects/miniconda3/envs/py3/lib/python3.6/site-packages/tensorflow/python/client/session.py\u001b[0m in \u001b[0;36m_run\u001b[0;34m(self, handle, fetches, feed_dict, options, run_metadata)\u001b[0m\n\u001b[1;32m   1122\u001b[0m     \u001b[0;32mif\u001b[0m \u001b[0mfinal_fetches\u001b[0m \u001b[0;32mor\u001b[0m \u001b[0mfinal_targets\u001b[0m \u001b[0;32mor\u001b[0m \u001b[0;34m(\u001b[0m\u001b[0mhandle\u001b[0m \u001b[0;32mand\u001b[0m \u001b[0mfeed_dict_tensor\u001b[0m\u001b[0;34m)\u001b[0m\u001b[0;34m:\u001b[0m\u001b[0;34m\u001b[0m\u001b[0m\n\u001b[1;32m   1123\u001b[0m       results = self._do_run(handle, final_targets, final_fetches,\n\u001b[0;32m-> 1124\u001b[0;31m                              feed_dict_tensor, options, run_metadata)\n\u001b[0m\u001b[1;32m   1125\u001b[0m     \u001b[0;32melse\u001b[0m\u001b[0;34m:\u001b[0m\u001b[0;34m\u001b[0m\u001b[0m\n\u001b[1;32m   1126\u001b[0m       \u001b[0mresults\u001b[0m \u001b[0;34m=\u001b[0m \u001b[0;34m[\u001b[0m\u001b[0;34m]\u001b[0m\u001b[0;34m\u001b[0m\u001b[0m\n",
      "\u001b[0;32m~/Projects/miniconda3/envs/py3/lib/python3.6/site-packages/tensorflow/python/client/session.py\u001b[0m in \u001b[0;36m_do_run\u001b[0;34m(self, handle, target_list, fetch_list, feed_dict, options, run_metadata)\u001b[0m\n\u001b[1;32m   1319\u001b[0m     \u001b[0;32mif\u001b[0m \u001b[0mhandle\u001b[0m \u001b[0;32mis\u001b[0m \u001b[0;32mNone\u001b[0m\u001b[0;34m:\u001b[0m\u001b[0;34m\u001b[0m\u001b[0m\n\u001b[1;32m   1320\u001b[0m       return self._do_call(_run_fn, self._session, feeds, fetches, targets,\n\u001b[0;32m-> 1321\u001b[0;31m                            options, run_metadata)\n\u001b[0m\u001b[1;32m   1322\u001b[0m     \u001b[0;32melse\u001b[0m\u001b[0;34m:\u001b[0m\u001b[0;34m\u001b[0m\u001b[0m\n\u001b[1;32m   1323\u001b[0m       \u001b[0;32mreturn\u001b[0m \u001b[0mself\u001b[0m\u001b[0;34m.\u001b[0m\u001b[0m_do_call\u001b[0m\u001b[0;34m(\u001b[0m\u001b[0m_prun_fn\u001b[0m\u001b[0;34m,\u001b[0m \u001b[0mself\u001b[0m\u001b[0;34m.\u001b[0m\u001b[0m_session\u001b[0m\u001b[0;34m,\u001b[0m \u001b[0mhandle\u001b[0m\u001b[0;34m,\u001b[0m \u001b[0mfeeds\u001b[0m\u001b[0;34m,\u001b[0m \u001b[0mfetches\u001b[0m\u001b[0;34m)\u001b[0m\u001b[0;34m\u001b[0m\u001b[0m\n",
      "\u001b[0;32m~/Projects/miniconda3/envs/py3/lib/python3.6/site-packages/tensorflow/python/client/session.py\u001b[0m in \u001b[0;36m_do_call\u001b[0;34m(self, fn, *args)\u001b[0m\n\u001b[1;32m   1325\u001b[0m   \u001b[0;32mdef\u001b[0m \u001b[0m_do_call\u001b[0m\u001b[0;34m(\u001b[0m\u001b[0mself\u001b[0m\u001b[0;34m,\u001b[0m \u001b[0mfn\u001b[0m\u001b[0;34m,\u001b[0m \u001b[0;34m*\u001b[0m\u001b[0margs\u001b[0m\u001b[0;34m)\u001b[0m\u001b[0;34m:\u001b[0m\u001b[0;34m\u001b[0m\u001b[0m\n\u001b[1;32m   1326\u001b[0m     \u001b[0;32mtry\u001b[0m\u001b[0;34m:\u001b[0m\u001b[0;34m\u001b[0m\u001b[0m\n\u001b[0;32m-> 1327\u001b[0;31m       \u001b[0;32mreturn\u001b[0m \u001b[0mfn\u001b[0m\u001b[0;34m(\u001b[0m\u001b[0;34m*\u001b[0m\u001b[0margs\u001b[0m\u001b[0;34m)\u001b[0m\u001b[0;34m\u001b[0m\u001b[0m\n\u001b[0m\u001b[1;32m   1328\u001b[0m     \u001b[0;32mexcept\u001b[0m \u001b[0merrors\u001b[0m\u001b[0;34m.\u001b[0m\u001b[0mOpError\u001b[0m \u001b[0;32mas\u001b[0m \u001b[0me\u001b[0m\u001b[0;34m:\u001b[0m\u001b[0;34m\u001b[0m\u001b[0m\n\u001b[1;32m   1329\u001b[0m       \u001b[0mmessage\u001b[0m \u001b[0;34m=\u001b[0m \u001b[0mcompat\u001b[0m\u001b[0;34m.\u001b[0m\u001b[0mas_text\u001b[0m\u001b[0;34m(\u001b[0m\u001b[0me\u001b[0m\u001b[0;34m.\u001b[0m\u001b[0mmessage\u001b[0m\u001b[0;34m)\u001b[0m\u001b[0;34m\u001b[0m\u001b[0m\n",
      "\u001b[0;32m~/Projects/miniconda3/envs/py3/lib/python3.6/site-packages/tensorflow/python/client/session.py\u001b[0m in \u001b[0;36m_run_fn\u001b[0;34m(session, feed_dict, fetch_list, target_list, options, run_metadata)\u001b[0m\n\u001b[1;32m   1304\u001b[0m           return tf_session.TF_Run(session, options,\n\u001b[1;32m   1305\u001b[0m                                    \u001b[0mfeed_dict\u001b[0m\u001b[0;34m,\u001b[0m \u001b[0mfetch_list\u001b[0m\u001b[0;34m,\u001b[0m \u001b[0mtarget_list\u001b[0m\u001b[0;34m,\u001b[0m\u001b[0;34m\u001b[0m\u001b[0m\n\u001b[0;32m-> 1306\u001b[0;31m                                    status, run_metadata)\n\u001b[0m\u001b[1;32m   1307\u001b[0m \u001b[0;34m\u001b[0m\u001b[0m\n\u001b[1;32m   1308\u001b[0m     \u001b[0;32mdef\u001b[0m \u001b[0m_prun_fn\u001b[0m\u001b[0;34m(\u001b[0m\u001b[0msession\u001b[0m\u001b[0;34m,\u001b[0m \u001b[0mhandle\u001b[0m\u001b[0;34m,\u001b[0m \u001b[0mfeed_dict\u001b[0m\u001b[0;34m,\u001b[0m \u001b[0mfetch_list\u001b[0m\u001b[0;34m)\u001b[0m\u001b[0;34m:\u001b[0m\u001b[0;34m\u001b[0m\u001b[0m\n",
      "\u001b[0;31mKeyboardInterrupt\u001b[0m: "
     ]
    }
   ],
   "source": [
    "fit(model)"
   ]
  },
  {
   "cell_type": "code",
   "execution_count": null,
   "metadata": {},
   "outputs": [],
   "source": [
    "# assuming this worked perfectly, I would use this output mask to ignore certain parameter updates and probably\n",
    "# scale the learning rate based on the confidence level\n",
    "# could I do this internally though? \n",
    "# maybe I could learn to create random uniform numbers and from that random uniform number I can\n",
    "# add and divide it to whatever the current number is, with the goal of something"
   ]
  }
 ],
 "metadata": {
  "kernelspec": {
   "display_name": "Python 3",
   "language": "python",
   "name": "python3"
  },
  "language_info": {
   "codemirror_mode": {
    "name": "ipython",
    "version": 3
   },
   "file_extension": ".py",
   "mimetype": "text/x-python",
   "name": "python",
   "nbconvert_exporter": "python",
   "pygments_lexer": "ipython3",
   "version": "3.6.3"
  },
  "toc": {
   "nav_menu": {},
   "number_sections": true,
   "sideBar": true,
   "skip_h1_title": false,
   "toc_cell": false,
   "toc_position": {},
   "toc_section_display": "block",
   "toc_window_display": false
  }
 },
 "nbformat": 4,
 "nbformat_minor": 2
}
