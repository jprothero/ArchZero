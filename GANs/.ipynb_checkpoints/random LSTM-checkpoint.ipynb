{
 "cells": [
  {
   "cell_type": "code",
   "execution_count": 1,
   "metadata": {
    "ExecuteTime": {
     "end_time": "2017-12-26T14:33:20.912668Z",
     "start_time": "2017-12-26T14:32:55.736649Z"
    }
   },
   "outputs": [
    {
     "name": "stderr",
     "output_type": "stream",
     "text": [
      "Using TensorFlow backend.\n"
     ]
    },
    {
     "name": "stdout",
     "output_type": "stream",
     "text": [
      "WARNING: number of categories is hardcoded, should make dynamic\n",
      "WARNING: number of categories is hardcoded, should make dynamic\n"
     ]
    }
   ],
   "source": [
    "import dataset\n",
    "\n",
    "ds = dataset.Dataset()"
   ]
  },
  {
   "cell_type": "code",
   "execution_count": 2,
   "metadata": {
    "ExecuteTime": {
     "end_time": "2017-12-26T14:33:20.951722Z",
     "start_time": "2017-12-26T14:33:20.915447Z"
    }
   },
   "outputs": [],
   "source": [
    "import numpy as np\n",
    "from tqdm import tqdm\n",
    "\n",
    "def generate_training_data(num_samples=10000, input_shape=(32, 32, 3)):\n",
    "    inputs = []\n",
    "    targets = []\n",
    "    \n",
    "    for i in tqdm(range(num_samples)):\n",
    "        np.random.seed(i)\n",
    "        inp_seq = []\n",
    "        for _ in range(input_shape[0]):\n",
    "            inp_seq.append([i])\n",
    "        inputs.append(inp_seq)\n",
    "        targets.append(np.random.normal(size=input_shape))\n",
    "    return np.array(inputs), np.array(targets)"
   ]
  },
  {
   "cell_type": "code",
   "execution_count": 3,
   "metadata": {
    "ExecuteTime": {
     "end_time": "2017-12-26T14:33:25.853727Z",
     "start_time": "2017-12-26T14:33:20.954736Z"
    }
   },
   "outputs": [
    {
     "name": "stderr",
     "output_type": "stream",
     "text": [
      "100%|██████████| 10000/10000 [00:04<00:00, 2314.78it/s]\n"
     ]
    }
   ],
   "source": [
    "inputs, targets = generate_training_data()"
   ]
  },
  {
   "cell_type": "code",
   "execution_count": 4,
   "metadata": {
    "ExecuteTime": {
     "end_time": "2017-12-26T14:33:25.878057Z",
     "start_time": "2017-12-26T14:33:25.856513Z"
    }
   },
   "outputs": [
    {
     "data": {
      "text/plain": [
       "(10000, 32, 1)"
      ]
     },
     "execution_count": 4,
     "metadata": {},
     "output_type": "execute_result"
    }
   ],
   "source": [
    "inputs.shape"
   ]
  },
  {
   "cell_type": "code",
   "execution_count": 5,
   "metadata": {
    "ExecuteTime": {
     "end_time": "2017-12-26T14:33:25.922790Z",
     "start_time": "2017-12-26T14:33:25.881777Z"
    }
   },
   "outputs": [],
   "source": [
    "from keras.layers import Conv2D, Dense, Input, LSTM, TimeDistributed, Reshape\n",
    "from keras.models import Model\n",
    "\n",
    "def create_random_lstm():\n",
    "    inp = Input(shape = (32, 1))\n",
    "    x = LSTM(64, return_sequences=True)(inp)\n",
    "    x = LSTM(32*3, return_sequences=True)(x)\n",
    "    out = Reshape((32, 32, 3))(x)\n",
    "#     out = TimeDistributed(Dense(32))(x)\n",
    "#     out = LSTM(32, return_sequences=True)(x)\n",
    "\n",
    "    model = Model(inputs=inp, outputs=out)\n",
    "    model.summary()\n",
    "\n",
    "    return model\n",
    "\n"
   ]
  },
  {
   "cell_type": "code",
   "execution_count": 6,
   "metadata": {
    "ExecuteTime": {
     "end_time": "2017-12-26T14:33:25.981978Z",
     "start_time": "2017-12-26T14:33:25.926622Z"
    }
   },
   "outputs": [],
   "source": [
    "from keras.optimizers import SGD, Nadam\n",
    "from clr_callback import CyclicLR\n",
    "\n",
    "def fit(model, inputs=inputs, targets=targets):\n",
    "    optim = Nadam()\n",
    "    base_lr = 0.001\n",
    "    max_lr = 0.006\n",
    "    clr = CyclicLR(base_lr=base_lr, max_lr=max_lr,\n",
    "                   step_size=2000., mode='triangular')\n",
    "\n",
    "    model.compile(optimizer=optim,\n",
    "                  loss=\"binary_crossentropy\")\n",
    "    \n",
    "    model.fit(inputs, targets, batch_size=32, callbacks=[clr])"
   ]
  },
  {
   "cell_type": "code",
   "execution_count": 7,
   "metadata": {
    "ExecuteTime": {
     "end_time": "2017-12-26T14:33:27.242222Z",
     "start_time": "2017-12-26T14:33:25.984458Z"
    }
   },
   "outputs": [
    {
     "name": "stdout",
     "output_type": "stream",
     "text": [
      "_________________________________________________________________\n",
      "Layer (type)                 Output Shape              Param #   \n",
      "=================================================================\n",
      "input_1 (InputLayer)         (None, 32, 1)             0         \n",
      "_________________________________________________________________\n",
      "lstm_1 (LSTM)                (None, 32, 128)           66560     \n",
      "_________________________________________________________________\n",
      "lstm_2 (LSTM)                (None, 32, 128)           131584    \n",
      "_________________________________________________________________\n",
      "lstm_3 (LSTM)                (None, 32, 96)            86400     \n",
      "_________________________________________________________________\n",
      "reshape_1 (Reshape)          (None, 32, 32, 3)         0         \n",
      "=================================================================\n",
      "Total params: 284,544\n",
      "Trainable params: 284,544\n",
      "Non-trainable params: 0\n",
      "_________________________________________________________________\n"
     ]
    }
   ],
   "source": [
    "lstm = create_random_lstm()"
   ]
  },
  {
   "cell_type": "code",
   "execution_count": 8,
   "metadata": {
    "ExecuteTime": {
     "end_time": "2017-12-26T14:35:22.366883Z",
     "start_time": "2017-12-26T14:33:27.245360Z"
    },
    "scrolled": true
   },
   "outputs": [
    {
     "name": "stdout",
     "output_type": "stream",
     "text": [
      "Epoch 1/1\n",
      "10000/10000 [==============================] - 111s - loss: 0.0262   \n"
     ]
    }
   ],
   "source": [
    "fit(lstm)"
   ]
  },
  {
   "cell_type": "code",
   "execution_count": 14,
   "metadata": {
    "ExecuteTime": {
     "end_time": "2017-12-26T14:36:05.921759Z",
     "start_time": "2017-12-26T14:36:05.909271Z"
    }
   },
   "outputs": [
    {
     "data": {
      "text/plain": [
       "(1, 32, 1)"
      ]
     },
     "execution_count": 14,
     "metadata": {},
     "output_type": "execute_result"
    }
   ],
   "source": [
    "test = []\n",
    "np.random.seed(15000)\n",
    "for i in range(32):\n",
    "    test.append([i])\n",
    "test = np.expand_dims(np.array(test), axis=0)\n",
    "\n",
    "test.shape"
   ]
  },
  {
   "cell_type": "code",
   "execution_count": 15,
   "metadata": {
    "ExecuteTime": {
     "end_time": "2017-12-26T14:36:06.520026Z",
     "start_time": "2017-12-26T14:36:06.256513Z"
    }
   },
   "outputs": [
    {
     "data": {
      "text/plain": [
       "array([[[[ -1.21873600e-04,   1.15705933e-03,  -2.98443629e-04],\n",
       "         [ -3.73026051e-05,  -2.32145842e-03,  -3.89676279e-04],\n",
       "         [ -4.41823417e-04,  -1.37211510e-03,  -3.41061270e-03],\n",
       "         ..., \n",
       "         [ -3.21893650e-03,  -5.78174600e-04,  -1.44652207e-03],\n",
       "         [  6.80531841e-04,  -1.12809939e-03,  -3.64669831e-04],\n",
       "         [ -6.46311382e-04,   1.56376872e-03,  -3.89734702e-03]],\n",
       "\n",
       "        [[  7.01516343e-04,   1.36453216e-03,  -2.04538764e-03],\n",
       "         [ -1.23376935e-03,  -5.77161601e-03,  -2.92312732e-04],\n",
       "         [  2.91653443e-04,  -2.70547229e-03,  -6.54486800e-03],\n",
       "         ..., \n",
       "         [ -6.17278088e-03,  -4.49262065e-04,  -4.59703151e-03],\n",
       "         [  7.96186796e-04,  -3.03367176e-03,  -2.62434012e-03],\n",
       "         [ -1.39401457e-03,   5.81764383e-04,  -7.63486233e-03]],\n",
       "\n",
       "        [[  3.19246086e-03,  -7.27943625e-05,  -6.80391118e-03],\n",
       "         [ -4.64481581e-03,  -1.20641934e-02,   4.93440079e-04],\n",
       "         [  2.64385366e-03,  -4.99774236e-03,  -1.01474617e-02],\n",
       "         ..., \n",
       "         [ -8.90854187e-03,   1.11730234e-03,  -1.14338007e-02],\n",
       "         [  3.45500477e-04,  -7.85491429e-03,  -8.58803466e-03],\n",
       "         [ -3.04436684e-03,  -5.86573174e-03,  -1.20404651e-02]],\n",
       "\n",
       "        ..., \n",
       "        [[  4.32773354e-03,  -1.21344663e-01,  -2.41089568e-01],\n",
       "         [ -7.46276200e-01,  -9.19288456e-01,  -1.38855167e-02],\n",
       "         [  0.00000000e+00,  -7.71067739e-01,  -7.35048652e-01],\n",
       "         ..., \n",
       "         [ -2.08130963e-02,  -1.37627004e-02,  -6.27127290e-01],\n",
       "         [ -2.62980789e-01,  -5.18070042e-01,  -7.91903853e-01],\n",
       "         [ -2.62499899e-01,  -6.43799365e-01,  -4.33684558e-01]],\n",
       "\n",
       "        [[  4.05500177e-03,  -1.19944215e-01,  -2.41811872e-01],\n",
       "         [ -7.47642875e-01,  -9.21285033e-01,  -1.67271663e-02],\n",
       "         [  0.00000000e+00,  -7.72019267e-01,  -7.36911654e-01],\n",
       "         ..., \n",
       "         [ -2.24581696e-02,  -1.33675337e-02,  -6.27453208e-01],\n",
       "         [ -2.63685584e-01,  -5.19223571e-01,  -7.94720948e-01],\n",
       "         [ -2.63801187e-01,  -6.45349205e-01,  -4.36477482e-01]],\n",
       "\n",
       "        [[  3.81486258e-03,  -1.18654430e-01,  -2.42574006e-01],\n",
       "         [ -7.48915017e-01,  -9.23161328e-01,  -1.95500907e-02],\n",
       "         [  0.00000000e+00,  -7.72916436e-01,  -7.38527477e-01],\n",
       "         ..., \n",
       "         [ -2.39393972e-02,  -1.29760662e-02,  -6.27745807e-01],\n",
       "         [ -2.64210045e-01,  -5.20222008e-01,  -7.97234774e-01],\n",
       "         [ -2.65015572e-01,  -6.46714211e-01,  -4.39009458e-01]]]], dtype=float32)"
      ]
     },
     "execution_count": 15,
     "metadata": {},
     "output_type": "execute_result"
    }
   ],
   "source": [
    "lstm.predict(test)"
   ]
  }
 ],
 "metadata": {
  "kernelspec": {
   "display_name": "Python 3",
   "language": "python",
   "name": "python3"
  },
  "language_info": {
   "codemirror_mode": {
    "name": "ipython",
    "version": 3
   },
   "file_extension": ".py",
   "mimetype": "text/x-python",
   "name": "python",
   "nbconvert_exporter": "python",
   "pygments_lexer": "ipython3",
   "version": "3.6.3"
  },
  "toc": {
   "nav_menu": {},
   "number_sections": true,
   "sideBar": true,
   "skip_h1_title": false,
   "toc_cell": false,
   "toc_position": {},
   "toc_section_display": "block",
   "toc_window_display": false
  }
 },
 "nbformat": 4,
 "nbformat_minor": 2
}
